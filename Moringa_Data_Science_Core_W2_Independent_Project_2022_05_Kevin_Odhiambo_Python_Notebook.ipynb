{
  "nbformat": 4,
  "nbformat_minor": 0,
  "metadata": {
    "colab": {
      "name": "Moringa_Data_Science_Core_W2_Independent_Project_2022_05_Kevin_Odhiambo_Python_Notebook.ipynb",
      "provenance": [],
      "toc_visible": true,
      "authorship_tag": "ABX9TyOv1tMCYXFyy3e+MbKGswOO",
      "include_colab_link": true
    },
    "kernelspec": {
      "name": "python3",
      "display_name": "Python 3"
    },
    "language_info": {
      "name": "python"
    }
  },
  "cells": [
    {
      "cell_type": "markdown",
      "metadata": {
        "id": "view-in-github",
        "colab_type": "text"
      },
      "source": [
        "<a href=\"https://colab.research.google.com/github/KevOdhiambo/Financial-Inclusion-Analysis-East-Africa-/blob/main/Moringa_Data_Science_Core_W2_Independent_Project_2022_05_Kevin_Odhiambo_Python_Notebook.ipynb\" target=\"_parent\"><img src=\"https://colab.research.google.com/assets/colab-badge.svg\" alt=\"Open In Colab\"/></a>"
      ]
    },
    {
      "cell_type": "markdown",
      "source": [
        "# Bank's Accessibility Analysis in East Africa\n"
      ],
      "metadata": {
        "id": "v2pyddXRJj2E"
      }
    },
    {
      "cell_type": "markdown",
      "source": [
        " ## a) Specifying the Data Analytic Question\n",
        "\n",
        "\n",
        "*   Be able to tell the factors that dettermines whether one has a bank account or not in kenya, Rwanda, Tanzania and Uganda and to what extent\n",
        "*   Indicate insights on financial inclusion from Kenya, Rwanda, Tanzania and Uganda based on the individuals owning a bank account\n"
      ],
      "metadata": {
        "id": "Xit8vYrHbqRi"
      }
    },
    {
      "cell_type": "markdown",
      "source": [
        "\n",
        "  ## b) Defining the Metric for Success\n",
        "\n",
        "  a). I should be able to find out the demographic variables that determine whether an indiviadual has a bank account or not.\n",
        "\n",
        "  b). Able to tell if a person do not have a bank account or they have\n"
      ],
      "metadata": {
        "id": "jVZtIHx6hv8R"
      }
    },
    {
      "cell_type": "markdown",
      "source": [
        "## c) Understanding the context\n",
        "\n",
        "\n",
        " Financial Inclusion remains one of the main obstacles to economic and human development in Africa. For example, across Kenya, Rwanda, Tanzania, and Uganda only 9.1 million adults (or 13.9% of the adult population) have access to or use a commercial bank account.\n",
        "\n",
        "Traditionally, access to bank accounts has been regarded as an indicator of financial inclusion. Despite the proliferation of mobile money in Africa and the growth of innovative fintech solutions, banks still play a pivotal role in facilitating access to financial services. Access to bank accounts enables households to save and facilitate payments while also helping businesses build up their credit-worthiness and improve their access to other financial services. Therefore, access to bank accounts is an essential contributor to long-term economic growth.\n",
        "\n",
        "The research problem is to figure out how we can predict which individuals are most likely to have or use a bank account. Your solution will help provide an indication of the state of financial inclusion in Kenya, Rwanda, Tanzania, and Uganda, while providing insights into some of the key demographic factors that might drive individuals’ financial outcomes."
      ],
      "metadata": {
        "id": "FE5xFYWQh-Ik"
      }
    },
    {
      "cell_type": "markdown",
      "source": [
        "##d) Recording the Experimental Design\n",
        "\n",
        "  Define research question\n",
        "\n",
        "  Data Exploration\n",
        "\n",
        "  Univariate analysis\n",
        "\n",
        "  Bivariate Analysis\n",
        "\n",
        "  Multivariate Analysis\n",
        "\n",
        "  Summary of Findings\n",
        "\n",
        "  Challenging the solution\n",
        "\n"
      ],
      "metadata": {
        "id": "jfSy95k8iRq4"
      }
    },
    {
      "cell_type": "markdown",
      "source": [
        "## e) Data Relevance\n",
        "The dataset provided contains vital demographic variables that we can use or our analysis. The dataset also shows the financial services most used by people in the East African countries. The data was extracted from Finscope surveys between 2016 to 2018 and it perfcetly its the context of our analysis.\n",
        "\n",
        "Further infomation regarding the surveys are here:\n",
        "\n",
        "FinAccess Kenya 2018: https://fsdkenya.org/publication/finaccess2019/\n",
        "\n",
        "Finscope Rwanda 2016: http://www.statistics.gov.rw/publication/finscope-rwanda-2016\n",
        "\n",
        "Finscope Tanzania 2017:  http://www.fsdt.or.tz/finscope/\n",
        "\n",
        "Finscope Uganda 2018: http://fsduganda.or.ug/finscope-2018-survey-report/ \n",
        "\n",
        "And for the data, here it is and its variable deinitions:\n",
        "\n",
        "Variable Definitions: http://bit.ly/VariableDefinitions \n",
        "\n",
        "Dataset: http://bit.ly/FinancialDataset\n"
      ],
      "metadata": {
        "id": "qY_KtrkojGLO"
      }
    },
    {
      "cell_type": "markdown",
      "source": [
        "# Loading Libraries and Dataset"
      ],
      "metadata": {
        "id": "BAJM7ubDqtd_"
      }
    },
    {
      "cell_type": "code",
      "source": [
        "#importing Python libraries or use in analysis\n",
        "import pandas as pd\n",
        "import numpy as np\n",
        "import seaborn as sns\n",
        "import matplotlib.pyplot as plt\n",
        "import sklearn as sk\n",
        "import pandas_profiling as pp\n",
        "from sklearn import model_selection\n",
        "from sklearn.metrics import r2_score\n",
        "from sklearn.model_selection import train_test_split\n",
        "import statsmodels.api as sm\n",
        "from sklearn.metrics import confusion_matrix\n",
        "from sklearn.metrics import accuracy_score, classification_report, roc_auc_score\n",
        "import warnings\n",
        "from sklearn.discriminant_analysis import LinearDiscriminantAnalysis as LDA\n",
        "from sklearn.ensemble import RandomForestClassifier, GradientBoostingClassifier\n"
      ],
      "metadata": {
        "id": "IHasz-4xqyWP"
      },
      "execution_count": 233,
      "outputs": []
    },
    {
      "cell_type": "code",
      "source": [
        "#loading dataset\n",
        "df =pd.read_csv('Financial Dataset.csv')"
      ],
      "metadata": {
        "id": "2cuvgRgHtg_F"
      },
      "execution_count": 234,
      "outputs": []
    },
    {
      "cell_type": "code",
      "source": [
        "#preview first 5 vales in the dataset\n",
        "df.head()"
      ],
      "metadata": {
        "colab": {
          "base_uri": "https://localhost:8080/",
          "height": 426
        },
        "id": "ABT_i6j6vVPf",
        "outputId": "6642e43e-ef91-4194-a48d-5a1fdf418507"
      },
      "execution_count": 235,
      "outputs": [
        {
          "output_type": "execute_result",
          "data": {
            "text/plain": [
              "  country  year    uniqueid Has a Bank account Type of Location  \\\n",
              "0   Kenya  2018  uniqueid_1                Yes            Rural   \n",
              "1   Kenya  2018  uniqueid_2                 No            Rural   \n",
              "2   Kenya  2018  uniqueid_3                Yes            Urban   \n",
              "3   Kenya  2018  uniqueid_4                 No            Rural   \n",
              "4   Kenya  2018  uniqueid_5                 No            Urban   \n",
              "\n",
              "  Cell Phone Access  household_size  Respondent Age gender_of_respondent  \\\n",
              "0               Yes             3.0            24.0               Female   \n",
              "1                No             5.0            70.0               Female   \n",
              "2               Yes             5.0            26.0                 Male   \n",
              "3               Yes             5.0            34.0               Female   \n",
              "4                No             8.0            26.0                 Male   \n",
              "\n",
              "  The relathip with head           marital_status  \\\n",
              "0                 Spouse  Married/Living together   \n",
              "1      Head of Household                  Widowed   \n",
              "2         Other relative     Single/Never Married   \n",
              "3      Head of Household  Married/Living together   \n",
              "4                  Child     Single/Never Married   \n",
              "\n",
              "               Level of Educuation                Type of Job  \n",
              "0              Secondary education              Self employed  \n",
              "1              No formal education       Government Dependent  \n",
              "2  Vocational/Specialised training              Self employed  \n",
              "3                Primary education  Formally employed Private  \n",
              "4                Primary education        Informally employed  "
            ],
            "text/html": [
              "\n",
              "  <div id=\"df-2e02a3ef-3f0d-488d-ba29-8964b34d07ab\">\n",
              "    <div class=\"colab-df-container\">\n",
              "      <div>\n",
              "<style scoped>\n",
              "    .dataframe tbody tr th:only-of-type {\n",
              "        vertical-align: middle;\n",
              "    }\n",
              "\n",
              "    .dataframe tbody tr th {\n",
              "        vertical-align: top;\n",
              "    }\n",
              "\n",
              "    .dataframe thead th {\n",
              "        text-align: right;\n",
              "    }\n",
              "</style>\n",
              "<table border=\"1\" class=\"dataframe\">\n",
              "  <thead>\n",
              "    <tr style=\"text-align: right;\">\n",
              "      <th></th>\n",
              "      <th>country</th>\n",
              "      <th>year</th>\n",
              "      <th>uniqueid</th>\n",
              "      <th>Has a Bank account</th>\n",
              "      <th>Type of Location</th>\n",
              "      <th>Cell Phone Access</th>\n",
              "      <th>household_size</th>\n",
              "      <th>Respondent Age</th>\n",
              "      <th>gender_of_respondent</th>\n",
              "      <th>The relathip with head</th>\n",
              "      <th>marital_status</th>\n",
              "      <th>Level of Educuation</th>\n",
              "      <th>Type of Job</th>\n",
              "    </tr>\n",
              "  </thead>\n",
              "  <tbody>\n",
              "    <tr>\n",
              "      <th>0</th>\n",
              "      <td>Kenya</td>\n",
              "      <td>2018</td>\n",
              "      <td>uniqueid_1</td>\n",
              "      <td>Yes</td>\n",
              "      <td>Rural</td>\n",
              "      <td>Yes</td>\n",
              "      <td>3.0</td>\n",
              "      <td>24.0</td>\n",
              "      <td>Female</td>\n",
              "      <td>Spouse</td>\n",
              "      <td>Married/Living together</td>\n",
              "      <td>Secondary education</td>\n",
              "      <td>Self employed</td>\n",
              "    </tr>\n",
              "    <tr>\n",
              "      <th>1</th>\n",
              "      <td>Kenya</td>\n",
              "      <td>2018</td>\n",
              "      <td>uniqueid_2</td>\n",
              "      <td>No</td>\n",
              "      <td>Rural</td>\n",
              "      <td>No</td>\n",
              "      <td>5.0</td>\n",
              "      <td>70.0</td>\n",
              "      <td>Female</td>\n",
              "      <td>Head of Household</td>\n",
              "      <td>Widowed</td>\n",
              "      <td>No formal education</td>\n",
              "      <td>Government Dependent</td>\n",
              "    </tr>\n",
              "    <tr>\n",
              "      <th>2</th>\n",
              "      <td>Kenya</td>\n",
              "      <td>2018</td>\n",
              "      <td>uniqueid_3</td>\n",
              "      <td>Yes</td>\n",
              "      <td>Urban</td>\n",
              "      <td>Yes</td>\n",
              "      <td>5.0</td>\n",
              "      <td>26.0</td>\n",
              "      <td>Male</td>\n",
              "      <td>Other relative</td>\n",
              "      <td>Single/Never Married</td>\n",
              "      <td>Vocational/Specialised training</td>\n",
              "      <td>Self employed</td>\n",
              "    </tr>\n",
              "    <tr>\n",
              "      <th>3</th>\n",
              "      <td>Kenya</td>\n",
              "      <td>2018</td>\n",
              "      <td>uniqueid_4</td>\n",
              "      <td>No</td>\n",
              "      <td>Rural</td>\n",
              "      <td>Yes</td>\n",
              "      <td>5.0</td>\n",
              "      <td>34.0</td>\n",
              "      <td>Female</td>\n",
              "      <td>Head of Household</td>\n",
              "      <td>Married/Living together</td>\n",
              "      <td>Primary education</td>\n",
              "      <td>Formally employed Private</td>\n",
              "    </tr>\n",
              "    <tr>\n",
              "      <th>4</th>\n",
              "      <td>Kenya</td>\n",
              "      <td>2018</td>\n",
              "      <td>uniqueid_5</td>\n",
              "      <td>No</td>\n",
              "      <td>Urban</td>\n",
              "      <td>No</td>\n",
              "      <td>8.0</td>\n",
              "      <td>26.0</td>\n",
              "      <td>Male</td>\n",
              "      <td>Child</td>\n",
              "      <td>Single/Never Married</td>\n",
              "      <td>Primary education</td>\n",
              "      <td>Informally employed</td>\n",
              "    </tr>\n",
              "  </tbody>\n",
              "</table>\n",
              "</div>\n",
              "      <button class=\"colab-df-convert\" onclick=\"convertToInteractive('df-2e02a3ef-3f0d-488d-ba29-8964b34d07ab')\"\n",
              "              title=\"Convert this dataframe to an interactive table.\"\n",
              "              style=\"display:none;\">\n",
              "        \n",
              "  <svg xmlns=\"http://www.w3.org/2000/svg\" height=\"24px\"viewBox=\"0 0 24 24\"\n",
              "       width=\"24px\">\n",
              "    <path d=\"M0 0h24v24H0V0z\" fill=\"none\"/>\n",
              "    <path d=\"M18.56 5.44l.94 2.06.94-2.06 2.06-.94-2.06-.94-.94-2.06-.94 2.06-2.06.94zm-11 1L8.5 8.5l.94-2.06 2.06-.94-2.06-.94L8.5 2.5l-.94 2.06-2.06.94zm10 10l.94 2.06.94-2.06 2.06-.94-2.06-.94-.94-2.06-.94 2.06-2.06.94z\"/><path d=\"M17.41 7.96l-1.37-1.37c-.4-.4-.92-.59-1.43-.59-.52 0-1.04.2-1.43.59L10.3 9.45l-7.72 7.72c-.78.78-.78 2.05 0 2.83L4 21.41c.39.39.9.59 1.41.59.51 0 1.02-.2 1.41-.59l7.78-7.78 2.81-2.81c.8-.78.8-2.07 0-2.86zM5.41 20L4 18.59l7.72-7.72 1.47 1.35L5.41 20z\"/>\n",
              "  </svg>\n",
              "      </button>\n",
              "      \n",
              "  <style>\n",
              "    .colab-df-container {\n",
              "      display:flex;\n",
              "      flex-wrap:wrap;\n",
              "      gap: 12px;\n",
              "    }\n",
              "\n",
              "    .colab-df-convert {\n",
              "      background-color: #E8F0FE;\n",
              "      border: none;\n",
              "      border-radius: 50%;\n",
              "      cursor: pointer;\n",
              "      display: none;\n",
              "      fill: #1967D2;\n",
              "      height: 32px;\n",
              "      padding: 0 0 0 0;\n",
              "      width: 32px;\n",
              "    }\n",
              "\n",
              "    .colab-df-convert:hover {\n",
              "      background-color: #E2EBFA;\n",
              "      box-shadow: 0px 1px 2px rgba(60, 64, 67, 0.3), 0px 1px 3px 1px rgba(60, 64, 67, 0.15);\n",
              "      fill: #174EA6;\n",
              "    }\n",
              "\n",
              "    [theme=dark] .colab-df-convert {\n",
              "      background-color: #3B4455;\n",
              "      fill: #D2E3FC;\n",
              "    }\n",
              "\n",
              "    [theme=dark] .colab-df-convert:hover {\n",
              "      background-color: #434B5C;\n",
              "      box-shadow: 0px 1px 3px 1px rgba(0, 0, 0, 0.15);\n",
              "      filter: drop-shadow(0px 1px 2px rgba(0, 0, 0, 0.3));\n",
              "      fill: #FFFFFF;\n",
              "    }\n",
              "  </style>\n",
              "\n",
              "      <script>\n",
              "        const buttonEl =\n",
              "          document.querySelector('#df-2e02a3ef-3f0d-488d-ba29-8964b34d07ab button.colab-df-convert');\n",
              "        buttonEl.style.display =\n",
              "          google.colab.kernel.accessAllowed ? 'block' : 'none';\n",
              "\n",
              "        async function convertToInteractive(key) {\n",
              "          const element = document.querySelector('#df-2e02a3ef-3f0d-488d-ba29-8964b34d07ab');\n",
              "          const dataTable =\n",
              "            await google.colab.kernel.invokeFunction('convertToInteractive',\n",
              "                                                     [key], {});\n",
              "          if (!dataTable) return;\n",
              "\n",
              "          const docLinkHtml = 'Like what you see? Visit the ' +\n",
              "            '<a target=\"_blank\" href=https://colab.research.google.com/notebooks/data_table.ipynb>data table notebook</a>'\n",
              "            + ' to learn more about interactive tables.';\n",
              "          element.innerHTML = '';\n",
              "          dataTable['output_type'] = 'display_data';\n",
              "          await google.colab.output.renderOutput(dataTable, element);\n",
              "          const docLink = document.createElement('div');\n",
              "          docLink.innerHTML = docLinkHtml;\n",
              "          element.appendChild(docLink);\n",
              "        }\n",
              "      </script>\n",
              "    </div>\n",
              "  </div>\n",
              "  "
            ]
          },
          "metadata": {},
          "execution_count": 235
        }
      ]
    },
    {
      "cell_type": "code",
      "source": [
        "#preview last 10 values in the dataset\n",
        "df.tail(10)"
      ],
      "metadata": {
        "colab": {
          "base_uri": "https://localhost:8080/",
          "height": 653
        },
        "id": "EXlJaMaVvwe2",
        "outputId": "ea07452f-fad8-46fd-eaee-f7338a297c9c"
      },
      "execution_count": 236,
      "outputs": [
        {
          "output_type": "execute_result",
          "data": {
            "text/plain": [
              "      country  year       uniqueid Has a Bank account Type of Location  \\\n",
              "23514  Uganda  2018  uniqueid_2107                 No            Urban   \n",
              "23515  Uganda  2018  uniqueid_2108                 No            Rural   \n",
              "23516  Uganda  2018  uniqueid_2109                 No            Urban   \n",
              "23517  Uganda  2018  uniqueid_2110                 No            Urban   \n",
              "23518  Uganda  2018  uniqueid_2111                 No            Rural   \n",
              "23519  Uganda  2018  uniqueid_2113                 No            Rural   \n",
              "23520  Uganda  2018  uniqueid_2114                 No            Rural   \n",
              "23521  Uganda  2018  uniqueid_2115                 No            Rural   \n",
              "23522  Uganda  2018  uniqueid_2116                 No            Urban   \n",
              "23523  Uganda  2018  uniqueid_2117                 No            Rural   \n",
              "\n",
              "      Cell Phone Access  household_size  Respondent Age gender_of_respondent  \\\n",
              "23514               Yes             NaN            24.0               Female   \n",
              "23515                No             NaN            16.0                 Male   \n",
              "23516               Yes             NaN            35.0                 Male   \n",
              "23517               Yes             NaN            16.0                 Male   \n",
              "23518               Yes             NaN            20.0               Female   \n",
              "23519               Yes             4.0            48.0               Female   \n",
              "23520               Yes             2.0            27.0               Female   \n",
              "23521               Yes             5.0            27.0               Female   \n",
              "23522               Yes             7.0            30.0               Female   \n",
              "23523               Yes            10.0            20.0                 Male   \n",
              "\n",
              "      The relathip with head           marital_status  Level of Educuation  \\\n",
              "23514                 Spouse  Married/Living together    Primary education   \n",
              "23515                 Parent     Single/Never Married    Primary education   \n",
              "23516      Head of Household  Married/Living together    Primary education   \n",
              "23517                 Parent     Single/Never Married    Primary education   \n",
              "23518                  Child     Single/Never Married    Primary education   \n",
              "23519      Head of Household       Divorced/Seperated  No formal education   \n",
              "23520      Head of Household     Single/Never Married  Secondary education   \n",
              "23521                 Parent                  Widowed    Primary education   \n",
              "23522                 Parent       Divorced/Seperated  Secondary education   \n",
              "23523                  Child     Single/Never Married  Secondary education   \n",
              "\n",
              "         Type of Job  \n",
              "23514  Self employed  \n",
              "23515   Other Income  \n",
              "23516  Self employed  \n",
              "23517   Other Income  \n",
              "23518      No Income  \n",
              "23519   Other Income  \n",
              "23520   Other Income  \n",
              "23521   Other Income  \n",
              "23522  Self employed  \n",
              "23523      No Income  "
            ],
            "text/html": [
              "\n",
              "  <div id=\"df-e6f50714-62bc-4c67-b8ee-64bae55998e4\">\n",
              "    <div class=\"colab-df-container\">\n",
              "      <div>\n",
              "<style scoped>\n",
              "    .dataframe tbody tr th:only-of-type {\n",
              "        vertical-align: middle;\n",
              "    }\n",
              "\n",
              "    .dataframe tbody tr th {\n",
              "        vertical-align: top;\n",
              "    }\n",
              "\n",
              "    .dataframe thead th {\n",
              "        text-align: right;\n",
              "    }\n",
              "</style>\n",
              "<table border=\"1\" class=\"dataframe\">\n",
              "  <thead>\n",
              "    <tr style=\"text-align: right;\">\n",
              "      <th></th>\n",
              "      <th>country</th>\n",
              "      <th>year</th>\n",
              "      <th>uniqueid</th>\n",
              "      <th>Has a Bank account</th>\n",
              "      <th>Type of Location</th>\n",
              "      <th>Cell Phone Access</th>\n",
              "      <th>household_size</th>\n",
              "      <th>Respondent Age</th>\n",
              "      <th>gender_of_respondent</th>\n",
              "      <th>The relathip with head</th>\n",
              "      <th>marital_status</th>\n",
              "      <th>Level of Educuation</th>\n",
              "      <th>Type of Job</th>\n",
              "    </tr>\n",
              "  </thead>\n",
              "  <tbody>\n",
              "    <tr>\n",
              "      <th>23514</th>\n",
              "      <td>Uganda</td>\n",
              "      <td>2018</td>\n",
              "      <td>uniqueid_2107</td>\n",
              "      <td>No</td>\n",
              "      <td>Urban</td>\n",
              "      <td>Yes</td>\n",
              "      <td>NaN</td>\n",
              "      <td>24.0</td>\n",
              "      <td>Female</td>\n",
              "      <td>Spouse</td>\n",
              "      <td>Married/Living together</td>\n",
              "      <td>Primary education</td>\n",
              "      <td>Self employed</td>\n",
              "    </tr>\n",
              "    <tr>\n",
              "      <th>23515</th>\n",
              "      <td>Uganda</td>\n",
              "      <td>2018</td>\n",
              "      <td>uniqueid_2108</td>\n",
              "      <td>No</td>\n",
              "      <td>Rural</td>\n",
              "      <td>No</td>\n",
              "      <td>NaN</td>\n",
              "      <td>16.0</td>\n",
              "      <td>Male</td>\n",
              "      <td>Parent</td>\n",
              "      <td>Single/Never Married</td>\n",
              "      <td>Primary education</td>\n",
              "      <td>Other Income</td>\n",
              "    </tr>\n",
              "    <tr>\n",
              "      <th>23516</th>\n",
              "      <td>Uganda</td>\n",
              "      <td>2018</td>\n",
              "      <td>uniqueid_2109</td>\n",
              "      <td>No</td>\n",
              "      <td>Urban</td>\n",
              "      <td>Yes</td>\n",
              "      <td>NaN</td>\n",
              "      <td>35.0</td>\n",
              "      <td>Male</td>\n",
              "      <td>Head of Household</td>\n",
              "      <td>Married/Living together</td>\n",
              "      <td>Primary education</td>\n",
              "      <td>Self employed</td>\n",
              "    </tr>\n",
              "    <tr>\n",
              "      <th>23517</th>\n",
              "      <td>Uganda</td>\n",
              "      <td>2018</td>\n",
              "      <td>uniqueid_2110</td>\n",
              "      <td>No</td>\n",
              "      <td>Urban</td>\n",
              "      <td>Yes</td>\n",
              "      <td>NaN</td>\n",
              "      <td>16.0</td>\n",
              "      <td>Male</td>\n",
              "      <td>Parent</td>\n",
              "      <td>Single/Never Married</td>\n",
              "      <td>Primary education</td>\n",
              "      <td>Other Income</td>\n",
              "    </tr>\n",
              "    <tr>\n",
              "      <th>23518</th>\n",
              "      <td>Uganda</td>\n",
              "      <td>2018</td>\n",
              "      <td>uniqueid_2111</td>\n",
              "      <td>No</td>\n",
              "      <td>Rural</td>\n",
              "      <td>Yes</td>\n",
              "      <td>NaN</td>\n",
              "      <td>20.0</td>\n",
              "      <td>Female</td>\n",
              "      <td>Child</td>\n",
              "      <td>Single/Never Married</td>\n",
              "      <td>Primary education</td>\n",
              "      <td>No Income</td>\n",
              "    </tr>\n",
              "    <tr>\n",
              "      <th>23519</th>\n",
              "      <td>Uganda</td>\n",
              "      <td>2018</td>\n",
              "      <td>uniqueid_2113</td>\n",
              "      <td>No</td>\n",
              "      <td>Rural</td>\n",
              "      <td>Yes</td>\n",
              "      <td>4.0</td>\n",
              "      <td>48.0</td>\n",
              "      <td>Female</td>\n",
              "      <td>Head of Household</td>\n",
              "      <td>Divorced/Seperated</td>\n",
              "      <td>No formal education</td>\n",
              "      <td>Other Income</td>\n",
              "    </tr>\n",
              "    <tr>\n",
              "      <th>23520</th>\n",
              "      <td>Uganda</td>\n",
              "      <td>2018</td>\n",
              "      <td>uniqueid_2114</td>\n",
              "      <td>No</td>\n",
              "      <td>Rural</td>\n",
              "      <td>Yes</td>\n",
              "      <td>2.0</td>\n",
              "      <td>27.0</td>\n",
              "      <td>Female</td>\n",
              "      <td>Head of Household</td>\n",
              "      <td>Single/Never Married</td>\n",
              "      <td>Secondary education</td>\n",
              "      <td>Other Income</td>\n",
              "    </tr>\n",
              "    <tr>\n",
              "      <th>23521</th>\n",
              "      <td>Uganda</td>\n",
              "      <td>2018</td>\n",
              "      <td>uniqueid_2115</td>\n",
              "      <td>No</td>\n",
              "      <td>Rural</td>\n",
              "      <td>Yes</td>\n",
              "      <td>5.0</td>\n",
              "      <td>27.0</td>\n",
              "      <td>Female</td>\n",
              "      <td>Parent</td>\n",
              "      <td>Widowed</td>\n",
              "      <td>Primary education</td>\n",
              "      <td>Other Income</td>\n",
              "    </tr>\n",
              "    <tr>\n",
              "      <th>23522</th>\n",
              "      <td>Uganda</td>\n",
              "      <td>2018</td>\n",
              "      <td>uniqueid_2116</td>\n",
              "      <td>No</td>\n",
              "      <td>Urban</td>\n",
              "      <td>Yes</td>\n",
              "      <td>7.0</td>\n",
              "      <td>30.0</td>\n",
              "      <td>Female</td>\n",
              "      <td>Parent</td>\n",
              "      <td>Divorced/Seperated</td>\n",
              "      <td>Secondary education</td>\n",
              "      <td>Self employed</td>\n",
              "    </tr>\n",
              "    <tr>\n",
              "      <th>23523</th>\n",
              "      <td>Uganda</td>\n",
              "      <td>2018</td>\n",
              "      <td>uniqueid_2117</td>\n",
              "      <td>No</td>\n",
              "      <td>Rural</td>\n",
              "      <td>Yes</td>\n",
              "      <td>10.0</td>\n",
              "      <td>20.0</td>\n",
              "      <td>Male</td>\n",
              "      <td>Child</td>\n",
              "      <td>Single/Never Married</td>\n",
              "      <td>Secondary education</td>\n",
              "      <td>No Income</td>\n",
              "    </tr>\n",
              "  </tbody>\n",
              "</table>\n",
              "</div>\n",
              "      <button class=\"colab-df-convert\" onclick=\"convertToInteractive('df-e6f50714-62bc-4c67-b8ee-64bae55998e4')\"\n",
              "              title=\"Convert this dataframe to an interactive table.\"\n",
              "              style=\"display:none;\">\n",
              "        \n",
              "  <svg xmlns=\"http://www.w3.org/2000/svg\" height=\"24px\"viewBox=\"0 0 24 24\"\n",
              "       width=\"24px\">\n",
              "    <path d=\"M0 0h24v24H0V0z\" fill=\"none\"/>\n",
              "    <path d=\"M18.56 5.44l.94 2.06.94-2.06 2.06-.94-2.06-.94-.94-2.06-.94 2.06-2.06.94zm-11 1L8.5 8.5l.94-2.06 2.06-.94-2.06-.94L8.5 2.5l-.94 2.06-2.06.94zm10 10l.94 2.06.94-2.06 2.06-.94-2.06-.94-.94-2.06-.94 2.06-2.06.94z\"/><path d=\"M17.41 7.96l-1.37-1.37c-.4-.4-.92-.59-1.43-.59-.52 0-1.04.2-1.43.59L10.3 9.45l-7.72 7.72c-.78.78-.78 2.05 0 2.83L4 21.41c.39.39.9.59 1.41.59.51 0 1.02-.2 1.41-.59l7.78-7.78 2.81-2.81c.8-.78.8-2.07 0-2.86zM5.41 20L4 18.59l7.72-7.72 1.47 1.35L5.41 20z\"/>\n",
              "  </svg>\n",
              "      </button>\n",
              "      \n",
              "  <style>\n",
              "    .colab-df-container {\n",
              "      display:flex;\n",
              "      flex-wrap:wrap;\n",
              "      gap: 12px;\n",
              "    }\n",
              "\n",
              "    .colab-df-convert {\n",
              "      background-color: #E8F0FE;\n",
              "      border: none;\n",
              "      border-radius: 50%;\n",
              "      cursor: pointer;\n",
              "      display: none;\n",
              "      fill: #1967D2;\n",
              "      height: 32px;\n",
              "      padding: 0 0 0 0;\n",
              "      width: 32px;\n",
              "    }\n",
              "\n",
              "    .colab-df-convert:hover {\n",
              "      background-color: #E2EBFA;\n",
              "      box-shadow: 0px 1px 2px rgba(60, 64, 67, 0.3), 0px 1px 3px 1px rgba(60, 64, 67, 0.15);\n",
              "      fill: #174EA6;\n",
              "    }\n",
              "\n",
              "    [theme=dark] .colab-df-convert {\n",
              "      background-color: #3B4455;\n",
              "      fill: #D2E3FC;\n",
              "    }\n",
              "\n",
              "    [theme=dark] .colab-df-convert:hover {\n",
              "      background-color: #434B5C;\n",
              "      box-shadow: 0px 1px 3px 1px rgba(0, 0, 0, 0.15);\n",
              "      filter: drop-shadow(0px 1px 2px rgba(0, 0, 0, 0.3));\n",
              "      fill: #FFFFFF;\n",
              "    }\n",
              "  </style>\n",
              "\n",
              "      <script>\n",
              "        const buttonEl =\n",
              "          document.querySelector('#df-e6f50714-62bc-4c67-b8ee-64bae55998e4 button.colab-df-convert');\n",
              "        buttonEl.style.display =\n",
              "          google.colab.kernel.accessAllowed ? 'block' : 'none';\n",
              "\n",
              "        async function convertToInteractive(key) {\n",
              "          const element = document.querySelector('#df-e6f50714-62bc-4c67-b8ee-64bae55998e4');\n",
              "          const dataTable =\n",
              "            await google.colab.kernel.invokeFunction('convertToInteractive',\n",
              "                                                     [key], {});\n",
              "          if (!dataTable) return;\n",
              "\n",
              "          const docLinkHtml = 'Like what you see? Visit the ' +\n",
              "            '<a target=\"_blank\" href=https://colab.research.google.com/notebooks/data_table.ipynb>data table notebook</a>'\n",
              "            + ' to learn more about interactive tables.';\n",
              "          element.innerHTML = '';\n",
              "          dataTable['output_type'] = 'display_data';\n",
              "          await google.colab.output.renderOutput(dataTable, element);\n",
              "          const docLink = document.createElement('div');\n",
              "          docLink.innerHTML = docLinkHtml;\n",
              "          element.appendChild(docLink);\n",
              "        }\n",
              "      </script>\n",
              "    </div>\n",
              "  </div>\n",
              "  "
            ]
          },
          "metadata": {},
          "execution_count": 236
        }
      ]
    },
    {
      "cell_type": "code",
      "source": [
        "#check for the datatypes for each column\n",
        "df.dtypes"
      ],
      "metadata": {
        "colab": {
          "base_uri": "https://localhost:8080/"
        },
        "id": "h8p8SBV6v5c7",
        "outputId": "28d0f36f-1d98-43f1-a20b-c2c83a658d20"
      },
      "execution_count": 237,
      "outputs": [
        {
          "output_type": "execute_result",
          "data": {
            "text/plain": [
              "country                    object\n",
              "year                        int64\n",
              "uniqueid                   object\n",
              "Has a Bank account         object\n",
              "Type of Location           object\n",
              "Cell Phone Access          object\n",
              "household_size            float64\n",
              "Respondent Age            float64\n",
              "gender_of_respondent       object\n",
              "The relathip with head     object\n",
              "marital_status             object\n",
              "Level of Educuation        object\n",
              "Type of Job                object\n",
              "dtype: object"
            ]
          },
          "metadata": {},
          "execution_count": 237
        }
      ]
    },
    {
      "cell_type": "code",
      "source": [
        "#check for further infomation regarding the data\n",
        "df.info()"
      ],
      "metadata": {
        "colab": {
          "base_uri": "https://localhost:8080/"
        },
        "id": "dTycRKvqwMj4",
        "outputId": "4b033f73-ffe8-41ac-8b78-d617a38f6df9"
      },
      "execution_count": 238,
      "outputs": [
        {
          "output_type": "stream",
          "name": "stdout",
          "text": [
            "<class 'pandas.core.frame.DataFrame'>\n",
            "RangeIndex: 23524 entries, 0 to 23523\n",
            "Data columns (total 13 columns):\n",
            " #   Column                  Non-Null Count  Dtype  \n",
            "---  ------                  --------------  -----  \n",
            " 0   country                 23510 non-null  object \n",
            " 1   year                    23524 non-null  int64  \n",
            " 2   uniqueid                23524 non-null  object \n",
            " 3   Has a Bank account      23488 non-null  object \n",
            " 4   Type of Location        23509 non-null  object \n",
            " 5   Cell Phone Access       23513 non-null  object \n",
            " 6   household_size          23496 non-null  float64\n",
            " 7   Respondent Age          23490 non-null  float64\n",
            " 8   gender_of_respondent    23490 non-null  object \n",
            " 9   The relathip with head  23520 non-null  object \n",
            " 10  marital_status          23492 non-null  object \n",
            " 11  Level of Educuation     23495 non-null  object \n",
            " 12  Type of Job             23494 non-null  object \n",
            "dtypes: float64(2), int64(1), object(10)\n",
            "memory usage: 2.3+ MB\n"
          ]
        }
      ]
    },
    {
      "cell_type": "code",
      "source": [
        "#get the data shape\n",
        "print('This dataset has ' + str(df.shape[0]) + ' rows and ' +  str(df.shape[1]) + ' columns' )"
      ],
      "metadata": {
        "colab": {
          "base_uri": "https://localhost:8080/"
        },
        "id": "Dh9PCh1xwo-9",
        "outputId": "36ee5692-3d4f-464a-8c8e-9501673dbc7b"
      },
      "execution_count": 239,
      "outputs": [
        {
          "output_type": "stream",
          "name": "stdout",
          "text": [
            "This dataset has 23524 rows and 13 columns\n"
          ]
        }
      ]
    },
    {
      "cell_type": "markdown",
      "source": [
        "# Cleaning/Tidying the Dataset"
      ],
      "metadata": {
        "id": "q0mt4xY1xOcu"
      }
    },
    {
      "cell_type": "code",
      "source": [
        "#check for data duplicates in the dataset\n",
        "df.duplicated().sum()"
      ],
      "metadata": {
        "colab": {
          "base_uri": "https://localhost:8080/"
        },
        "id": "_WLhYLohw9r6",
        "outputId": "d713e03d-68b2-4a54-95a8-18b894deb7b8"
      },
      "execution_count": 240,
      "outputs": [
        {
          "output_type": "execute_result",
          "data": {
            "text/plain": [
              "0"
            ]
          },
          "metadata": {},
          "execution_count": 240
        }
      ]
    },
    {
      "cell_type": "code",
      "source": [
        "#scan through for unique values\n",
        "for col in df.columns.to_list():\n",
        "  print(f'In the {col} column these are the unique values: \\n')\n",
        "  \n",
        "  print(df[col].unique(), end='\\n')"
      ],
      "metadata": {
        "colab": {
          "base_uri": "https://localhost:8080/"
        },
        "id": "457pQGwkxkmF",
        "outputId": "10d1f634-0d0b-429f-9801-21fc84826f6f"
      },
      "execution_count": 241,
      "outputs": [
        {
          "output_type": "stream",
          "name": "stdout",
          "text": [
            "In the country column these are the unique values: \n",
            "\n",
            "['Kenya' 'Rwanda' 'Tanzania' nan 'Uganda']\n",
            "In the year column these are the unique values: \n",
            "\n",
            "[2018 2029 2056 2016 2039 2017]\n",
            "In the uniqueid column these are the unique values: \n",
            "\n",
            "['uniqueid_1' 'uniqueid_2' 'uniqueid_3' ... 'uniqueid_8757'\n",
            " 'uniqueid_8758' 'uniqueid_8759']\n",
            "In the Has a Bank account column these are the unique values: \n",
            "\n",
            "['Yes' 'No' nan]\n",
            "In the Type of Location column these are the unique values: \n",
            "\n",
            "['Rural' 'Urban' nan]\n",
            "In the Cell Phone Access column these are the unique values: \n",
            "\n",
            "['Yes' 'No' nan]\n",
            "In the household_size column these are the unique values: \n",
            "\n",
            "[ 3.  5.  8.  7.  1.  6.  4. 10.  2. 11.  9. 12. 16. 15. 13. 14. 21. nan\n",
            "  0. 18. 17. 20.]\n",
            "In the Respondent Age column these are the unique values: \n",
            "\n",
            "[ 24.  70.  26.  34.  32.  42.  54.  76.  40.  69.  64.  31.  38.  47.\n",
            "  27.  48.  25.  21.  18.  22.  58.  55.  62.  29.  35.  45.  67.  19.\n",
            "  80.  66.  50.  33.  28.  51.  16.  17.  30.  37.  59.  65.  46.  56.\n",
            "  52.  23.  43.  49.  44.  72.  53.  63.  39.  81.  78.  36.  20.  60.\n",
            "  95.  71.  57.  85.  68.  41.  61.  75.  86.  73.  nan  93.  74.  88.\n",
            "  90.  77.  84.  82.  89.  79.  83.  94.  87.  92.  91.  98.  97.  96.\n",
            "  99. 100.]\n",
            "In the gender_of_respondent column these are the unique values: \n",
            "\n",
            "['Female' 'Male' nan]\n",
            "In the The relathip with head column these are the unique values: \n",
            "\n",
            "['Spouse' 'Head of Household' 'Other relative' 'Child' 'Parent'\n",
            " 'Other non-relatives' nan]\n",
            "In the marital_status column these are the unique values: \n",
            "\n",
            "['Married/Living together' 'Widowed' 'Single/Never Married'\n",
            " 'Divorced/Seperated' 'Dont know' nan]\n",
            "In the Level of Educuation column these are the unique values: \n",
            "\n",
            "['Secondary education' 'No formal education'\n",
            " 'Vocational/Specialised training' 'Primary education'\n",
            " 'Tertiary education' 'Other/Dont know/RTA' '6' nan]\n",
            "In the Type of Job column these are the unique values: \n",
            "\n",
            "['Self employed' 'Government Dependent' 'Formally employed Private'\n",
            " 'Informally employed' 'Formally employed Government'\n",
            " 'Farming and Fishing' 'Remittance Dependent' 'Other Income'\n",
            " 'Dont Know/Refuse to answer' nan 'No Income']\n"
          ]
        }
      ]
    },
    {
      "cell_type": "markdown",
      "source": [
        "From the unique values identification:\n",
        "1. I have noticed there are mising values in various columns which needs further data cleaning.\n",
        "\n",
        "2. There are anomalities in the year column. there are 2029, 2056, and 2039. The survey was conucted from 2016 to 2018.\n",
        "\n",
        "3. The Level of Education column also has fields with '6' in them which needs to be cleaned as we dont know what 6 means.\n",
        "\n",
        "4. 'relationship with head' column titles has also been misspelt."
      ],
      "metadata": {
        "id": "OhwagWso0oDT"
      }
    },
    {
      "cell_type": "code",
      "source": [
        "#Drop years greater than 2018\n",
        "wrong_years = df[df['year'].isin([2029,2056,2039])].index\n",
        "df.drop(index=wrong_years, inplace=True)\n"
      ],
      "metadata": {
        "id": "pa0UrBzK0LET"
      },
      "execution_count": 242,
      "outputs": []
    },
    {
      "cell_type": "code",
      "source": [
        "#drop rows with 6 as the level of Education\n",
        "wrong_ed = df[df['Level of Educuation']== '6'].index\n",
        "df.drop(index=wrong_ed, inplace=True)"
      ],
      "metadata": {
        "id": "2LSl_5SU3nJ2"
      },
      "execution_count": 243,
      "outputs": []
    },
    {
      "cell_type": "code",
      "source": [
        "#check column names\n",
        "df.columns"
      ],
      "metadata": {
        "colab": {
          "base_uri": "https://localhost:8080/"
        },
        "id": "DzVYwrLi41Un",
        "outputId": "7d8fc827-8fc5-4a7c-84d0-14c33e5c1fd6"
      },
      "execution_count": 244,
      "outputs": [
        {
          "output_type": "execute_result",
          "data": {
            "text/plain": [
              "Index(['country', 'year', 'uniqueid', 'Has a Bank account', 'Type of Location',\n",
              "       'Cell Phone Access', 'household_size', 'Respondent Age',\n",
              "       'gender_of_respondent', 'The relathip with head', 'marital_status',\n",
              "       'Level of Educuation', 'Type of Job'],\n",
              "      dtype='object')"
            ]
          },
          "metadata": {},
          "execution_count": 244
        }
      ]
    },
    {
      "cell_type": "code",
      "source": [
        "#rename the 'The relathip with head' correctly\n",
        "df.rename(columns={'the_relathip_with_head':'the_relationship_with_head'}, inplace=True)"
      ],
      "metadata": {
        "id": "FsRWw8Q75Eli"
      },
      "execution_count": 245,
      "outputs": []
    },
    {
      "cell_type": "code",
      "source": [
        "#formart all column names by removing spaces and have them in lower case\n",
        "df.columns = df.columns.str.lower().str.replace(\" \", \"_\")\n",
        "\n",
        "#proceed to confimr the names\n",
        "df.columns"
      ],
      "metadata": {
        "colab": {
          "base_uri": "https://localhost:8080/"
        },
        "id": "j0GXsL1C5TzB",
        "outputId": "ddbbd9f0-50e4-40b8-e3e2-3734fd141633"
      },
      "execution_count": 246,
      "outputs": [
        {
          "output_type": "execute_result",
          "data": {
            "text/plain": [
              "Index(['country', 'year', 'uniqueid', 'has_a_bank_account', 'type_of_location',\n",
              "       'cell_phone_access', 'household_size', 'respondent_age',\n",
              "       'gender_of_respondent', 'the_relathip_with_head', 'marital_status',\n",
              "       'level_of_educuation', 'type_of_job'],\n",
              "      dtype='object')"
            ]
          },
          "metadata": {},
          "execution_count": 246
        }
      ]
    },
    {
      "cell_type": "markdown",
      "source": [
        "Handling Missing values"
      ],
      "metadata": {
        "id": "lKdPn7PT6HxP"
      }
    },
    {
      "cell_type": "code",
      "source": [
        "#dropping the unique_id column as we dont need it for analysis\n",
        "df.drop(columns='uniqueid', inplace=True)"
      ],
      "metadata": {
        "id": "vzXVXsknDi4v"
      },
      "execution_count": 247,
      "outputs": []
    },
    {
      "cell_type": "code",
      "source": [
        "#scan through for missing values\n",
        "df.isnull().sum()"
      ],
      "metadata": {
        "colab": {
          "base_uri": "https://localhost:8080/"
        },
        "id": "jRltQPGQ5mUV",
        "outputId": "bd62c6ba-4c63-45f4-d4e4-9da971d2cc96"
      },
      "execution_count": 248,
      "outputs": [
        {
          "output_type": "execute_result",
          "data": {
            "text/plain": [
              "country                   14\n",
              "year                       0\n",
              "has_a_bank_account        36\n",
              "type_of_location          15\n",
              "cell_phone_access         11\n",
              "household_size            28\n",
              "respondent_age            34\n",
              "gender_of_respondent      34\n",
              "the_relathip_with_head     4\n",
              "marital_status            32\n",
              "level_of_educuation       29\n",
              "type_of_job               30\n",
              "dtype: int64"
            ]
          },
          "metadata": {},
          "execution_count": 248
        }
      ]
    },
    {
      "cell_type": "code",
      "source": [
        "#drop all missing values and confirm\n",
        "df.dropna(inplace=True)\n",
        "\n",
        "#check if they're dropped\n",
        "df.isnull().sum()"
      ],
      "metadata": {
        "colab": {
          "base_uri": "https://localhost:8080/"
        },
        "id": "1XIxZjKZ6Sk6",
        "outputId": "fe4375f1-4419-45be-bcc8-f2c155d997d9"
      },
      "execution_count": 249,
      "outputs": [
        {
          "output_type": "execute_result",
          "data": {
            "text/plain": [
              "country                   0\n",
              "year                      0\n",
              "has_a_bank_account        0\n",
              "type_of_location          0\n",
              "cell_phone_access         0\n",
              "household_size            0\n",
              "respondent_age            0\n",
              "gender_of_respondent      0\n",
              "the_relathip_with_head    0\n",
              "marital_status            0\n",
              "level_of_educuation       0\n",
              "type_of_job               0\n",
              "dtype: int64"
            ]
          },
          "metadata": {},
          "execution_count": 249
        }
      ]
    },
    {
      "cell_type": "markdown",
      "source": [
        "# Data Exploration\n"
      ],
      "metadata": {
        "id": "47dO1PWq9baD"
      }
    },
    {
      "cell_type": "markdown",
      "source": [
        "## 1) **Univariate Analysis**"
      ],
      "metadata": {
        "id": "veUUlw4l9e8M"
      }
    },
    {
      "cell_type": "markdown",
      "source": [
        "###Analysis on Numerical data"
      ],
      "metadata": {
        "id": "X0HeAjsUBes4"
      }
    },
    {
      "cell_type": "code",
      "source": [
        "#Check for Outliers using boxplot on respondent_age\n",
        "plt.figure(dpi = 150)\n",
        "df.boxplot(['respondent_age'])\n",
        "plt.title(\"A boxplot showing Number of respondents age\", color = 'red')\n",
        "plt.show()"
      ],
      "metadata": {
        "colab": {
          "base_uri": "https://localhost:8080/",
          "height": 0
        },
        "id": "CJpTN6md6Orw",
        "outputId": "b9d43fd9-6718-486c-e304-e4ec59ff4727"
      },
      "execution_count": 250,
      "outputs": [
        {
          "output_type": "display_data",
          "data": {
            "text/plain": [
              "<Figure size 900x600 with 1 Axes>"
            ],
            "image/png": "[encoded data removed]"
          },
          "metadata": {}
        }
      ]
    },
    {
      "cell_type": "markdown",
      "source": [
        "from the box plot it shows there are outliers"
      ],
      "metadata": {
        "id": "chceR5Kv6lG8"
      }
    },
    {
      "cell_type": "code",
      "source": [
        "#check for skewness on Respondent age\n",
        "df.respondent_age.skew()"
      ],
      "metadata": {
        "colab": {
          "base_uri": "https://localhost:8080/"
        },
        "id": "B3Vus-Nct_4l",
        "outputId": "5698f9c7-6b4e-4f66-eff6-6310a19e8d20"
      },
      "execution_count": 251,
      "outputs": [
        {
          "output_type": "execute_result",
          "data": {
            "text/plain": [
              "0.8412764239448531"
            ]
          },
          "metadata": {},
          "execution_count": 251
        }
      ]
    },
    {
      "cell_type": "markdown",
      "source": [
        "the respondent age is moderatlety and positively skewed."
      ],
      "metadata": {
        "id": "xireLrxvuIXk"
      }
    },
    {
      "cell_type": "code",
      "source": [
        "#Check for kurtosis\n",
        "\n",
        "df['respondent_age'].kurt()\n"
      ],
      "metadata": {
        "colab": {
          "base_uri": "https://localhost:8080/"
        },
        "id": "X3tDuYJo61Ms",
        "outputId": "8c73c771-6aea-406c-e10e-e853708e08fa"
      },
      "execution_count": 252,
      "outputs": [
        {
          "output_type": "execute_result",
          "data": {
            "text/plain": [
              "0.10122691422605756"
            ]
          },
          "metadata": {},
          "execution_count": 252
        }
      ]
    },
    {
      "cell_type": "markdown",
      "source": [
        "The kurtosis is a leptokurtic."
      ],
      "metadata": {
        "id": "c0FoLFVOoWIE"
      }
    },
    {
      "cell_type": "code",
      "source": [
        "# Plotting the respondent age \n",
        "sns.histplot(df['respondent_age'], bins=10)\n",
        "plt.title('Histograph showing the Respondent age distribution')"
      ],
      "metadata": {
        "colab": {
          "base_uri": "https://localhost:8080/",
          "height": 0
        },
        "id": "wX8lFVCWuhI1",
        "outputId": "6b4bd7d3-e2d3-4336-93b7-9536dd62fdf6"
      },
      "execution_count": 253,
      "outputs": [
        {
          "output_type": "execute_result",
          "data": {
            "text/plain": [
              "Text(0.5, 1.0, 'Histograph showing the Respondent age distribution')"
            ]
          },
          "metadata": {},
          "execution_count": 253
        },
        {
          "output_type": "display_data",
          "data": {
            "text/plain": [
              "<Figure size 432x288 with 1 Axes>"
            ],
            "image/png": "[encoded data removed]"
          },
          "metadata": {}
        }
      ]
    },
    {
      "cell_type": "markdown",
      "source": [
        "The histgraph shows that the respondents between ages 30 to 40 were a majority who were interviewed. With those between 90 to 100 being the least interviewed."
      ],
      "metadata": {
        "id": "ilp6sw13vGge"
      }
    },
    {
      "cell_type": "code",
      "source": [
        "#Next we'll work on the household size as its the other numerical variables in the dataset.\n",
        "#using a boxplot to show if there are outliers\n",
        "plt.figure(dpi = 150)\n",
        "df.boxplot(['household_size'])\n",
        "plt.title(\"A boxplot showing Number of individuals per household\", color = 'blue')\n",
        "plt.show()"
      ],
      "metadata": {
        "colab": {
          "base_uri": "https://localhost:8080/",
          "height": 0
        },
        "id": "jrbhfoR0Emjk",
        "outputId": "06adc575-64a7-464a-80ad-a41a05dcbff4"
      },
      "execution_count": 254,
      "outputs": [
        {
          "output_type": "display_data",
          "data": {
            "text/plain": [
              "<Figure size 900x600 with 1 Axes>"
            ],
            "image/png": "[encoded data removed]"
          },
          "metadata": {}
        }
      ]
    },
    {
      "cell_type": "markdown",
      "source": [
        "from the box plot, it shows there are outliers"
      ],
      "metadata": {
        "id": "EpH8e4esE9bG"
      }
    },
    {
      "cell_type": "code",
      "source": [
        "\n",
        "# check for kurtosis\n",
        "df.household_size.kurt()"
      ],
      "metadata": {
        "colab": {
          "base_uri": "https://localhost:8080/"
        },
        "id": "tJbrPWNsvpwK",
        "outputId": "a636ce3c-d87c-400e-9b59-4642de47d3b6"
      },
      "execution_count": 255,
      "outputs": [
        {
          "output_type": "execute_result",
          "data": {
            "text/plain": [
              "1.1530073057375057"
            ]
          },
          "metadata": {},
          "execution_count": 255
        }
      ]
    },
    {
      "cell_type": "markdown",
      "source": [
        "The data is leptokurtic"
      ],
      "metadata": {
        "id": "X80M1kpTwGFs"
      }
    },
    {
      "cell_type": "code",
      "source": [
        "#cecking for skewness\n",
        "df.household_size.skew()"
      ],
      "metadata": {
        "colab": {
          "base_uri": "https://localhost:8080/"
        },
        "id": "q9ipdUSFwumt",
        "outputId": "265f0dc8-aa69-4c87-acc2-6fbeb17a22d1"
      },
      "execution_count": 256,
      "outputs": [
        {
          "output_type": "execute_result",
          "data": {
            "text/plain": [
              "0.9737983207814955"
            ]
          },
          "metadata": {},
          "execution_count": 256
        }
      ]
    },
    {
      "cell_type": "markdown",
      "source": [
        "this shows the results is strongly skewed."
      ],
      "metadata": {
        "id": "SEKCzciNw-jx"
      }
    },
    {
      "cell_type": "code",
      "source": [
        "#plot showing the househol size distribution as per the survey\n",
        "sns.distplot(df['household_size'], bins=10)\n",
        "plt.title('Plot showing the Household Size Distribution')"
      ],
      "metadata": {
        "colab": {
          "base_uri": "https://localhost:8080/",
          "height": 0
        },
        "id": "yYZ02y9OxIcO",
        "outputId": "58c781de-f382-4a68-e580-dc2a6896974a"
      },
      "execution_count": 257,
      "outputs": [
        {
          "output_type": "stream",
          "name": "stderr",
          "text": [
            "/usr/local/lib/python3.7/dist-packages/seaborn/distributions.py:2619: FutureWarning: `distplot` is a deprecated function and will be removed in a future version. Please adapt your code to use either `displot` (a figure-level function with similar flexibility) or `histplot` (an axes-level function for histograms).\n",
            "  warnings.warn(msg, FutureWarning)\n"
          ]
        },
        {
          "output_type": "execute_result",
          "data": {
            "text/plain": [
              "Text(0.5, 1.0, 'Plot showing the Household Size Distribution')"
            ]
          },
          "metadata": {},
          "execution_count": 257
        },
        {
          "output_type": "display_data",
          "data": {
            "text/plain": [
              "<Figure size 432x288 with 1 Axes>"
            ],
            "image/png": "[encoded data removed]"
          },
          "metadata": {}
        }
      ]
    },
    {
      "cell_type": "markdown",
      "source": [
        "### More Analysis Using Visualization"
      ],
      "metadata": {
        "id": "WtdVqCaaxvl1"
      }
    },
    {
      "cell_type": "markdown",
      "source": [
        "### Pie Chart\n"
      ],
      "metadata": {
        "id": "zDlzSxZ5olcv"
      }
    },
    {
      "cell_type": "code",
      "source": [
        "#show the proportion o indiviatuals with a bank account\n",
        "df['has_a_bank_account'].value_counts(normalize=True)*100"
      ],
      "metadata": {
        "colab": {
          "base_uri": "https://localhost:8080/"
        },
        "id": "U58JPdnDBk-q",
        "outputId": "fc786d79-188b-4fcc-a425-7e97818eb7ec"
      },
      "execution_count": 258,
      "outputs": [
        {
          "output_type": "execute_result",
          "data": {
            "text/plain": [
              "No     85.883413\n",
              "Yes    14.116587\n",
              "Name: has_a_bank_account, dtype: float64"
            ]
          },
          "metadata": {},
          "execution_count": 258
        }
      ]
    },
    {
      "cell_type": "code",
      "source": [
        "#pie chart showing those who had or did not have a bank account\n",
        "with_acc = df.has_a_bank_account.value_counts()\n",
        "with_acc\n",
        "\n",
        "#reading data to plot\n",
        "\n",
        "# labels\n",
        "sizes= with_acc.index\n",
        "sizes\n",
        "\n",
        "# values\n",
        "data = with_acc.values\n",
        "data\n",
        "\n",
        "# plotting the pie chart\n",
        "\n",
        "plt.figure(figsize = (5,5), dpi = 100)\n",
        "plt.pie(data, labels = sizes, autopct = '%1.1f%%', shadow = False, explode = (0.1,0), startangle = 90)\n",
        "plt.axis('equal')\n",
        "plt.title('Pie chart showing those who had or did not have a bank account', color = 'blue')\n",
        "plt.show()"
      ],
      "metadata": {
        "colab": {
          "base_uri": "https://localhost:8080/",
          "height": 0
        },
        "id": "Vn_Hqzdpo4NO",
        "outputId": "4e12e7a7-6293-4790-cf10-ff5a43f66e89"
      },
      "execution_count": 259,
      "outputs": [
        {
          "output_type": "display_data",
          "data": {
            "text/plain": [
              "<Figure size 500x500 with 1 Axes>"
            ],
            "image/png": "[encoded data removed]"
          },
          "metadata": {}
        }
      ]
    },
    {
      "cell_type": "markdown",
      "source": [
        "### Bar Chart"
      ],
      "metadata": {
        "id": "T0OyF165zOrd"
      }
    },
    {
      "cell_type": "code",
      "source": [
        "#BAr chart showing respondents alongside their countries\n",
        "plt.figure(dpi = 100)\n",
        "sns.set_style('darkgrid')\n",
        "sns.countplot(df.country)\n",
        "plt.title('A bar graph shwoing the number of Respondents by their Country', color = 'orange')\n",
        "plt.show()"
      ],
      "metadata": {
        "colab": {
          "base_uri": "https://localhost:8080/",
          "height": 0
        },
        "id": "N018Jmgap3YP",
        "outputId": "f18437be-1886-4689-9187-db546903de27"
      },
      "execution_count": 260,
      "outputs": [
        {
          "output_type": "stream",
          "name": "stderr",
          "text": [
            "/usr/local/lib/python3.7/dist-packages/seaborn/_decorators.py:43: FutureWarning: Pass the following variable as a keyword arg: x. From version 0.12, the only valid positional argument will be `data`, and passing other arguments without an explicit keyword will result in an error or misinterpretation.\n",
            "  FutureWarning\n"
          ]
        },
        {
          "output_type": "display_data",
          "data": {
            "text/plain": [
              "<Figure size 600x400 with 1 Axes>"
            ],
            "image/png": "[encoded data removed]"
          },
          "metadata": {}
        }
      ]
    },
    {
      "cell_type": "markdown",
      "source": [
        "From the graph we can tell that most respondednts were from Rwanda and Uganda having the least."
      ],
      "metadata": {
        "id": "OVW2UkJzzt4n"
      }
    },
    {
      "cell_type": "markdown",
      "source": [
        "### Histrogram"
      ],
      "metadata": {
        "id": "MVhJRkbv0HMy"
      }
    },
    {
      "cell_type": "code",
      "source": [
        "#Histogram showing the Respondents and their age\n",
        "plt.figure(dpi = 100)\n",
        "sns.set_style('darkgrid')\n",
        "sns.distplot(df['respondent_age'], kde = False, color = 'red')  \n",
        "plt.title('A plot Histogram showing the respondents age', color = 'red')\n",
        "plt.ylabel('Frequency')\n",
        "plt.show()\n"
      ],
      "metadata": {
        "colab": {
          "base_uri": "https://localhost:8080/",
          "height": 0
        },
        "id": "mm-zNXcBr3ny",
        "outputId": "eea9faef-731d-46ce-b9cb-d9801bc7d623"
      },
      "execution_count": 261,
      "outputs": [
        {
          "output_type": "stream",
          "name": "stderr",
          "text": [
            "/usr/local/lib/python3.7/dist-packages/seaborn/distributions.py:2619: FutureWarning: `distplot` is a deprecated function and will be removed in a future version. Please adapt your code to use either `displot` (a figure-level function with similar flexibility) or `histplot` (an axes-level function for histograms).\n",
            "  warnings.warn(msg, FutureWarning)\n"
          ]
        },
        {
          "output_type": "display_data",
          "data": {
            "text/plain": [
              "<Figure size 600x400 with 1 Axes>"
            ],
            "image/png": "[encoded data removed]"
          },
          "metadata": {}
        }
      ]
    },
    {
      "cell_type": "markdown",
      "source": [
        "from the hsitogram we can tell that its skewed to the right."
      ],
      "metadata": {
        "id": "d5-sPWp50oZw"
      }
    },
    {
      "cell_type": "markdown",
      "source": [
        "### Measures of central Tendency"
      ],
      "metadata": {
        "id": "nZkJp-M07Xuq"
      }
    },
    {
      "cell_type": "code",
      "source": [
        "# Describe numerical variables\n",
        "df[['household_size','respondent_age']].describe()"
      ],
      "metadata": {
        "colab": {
          "base_uri": "https://localhost:8080/",
          "height": 0
        },
        "id": "6bitM4P47kVT",
        "outputId": "8a053384-3ad9-42a7-9f45-5c081bebb6b1"
      },
      "execution_count": 262,
      "outputs": [
        {
          "output_type": "execute_result",
          "data": {
            "text/plain": [
              "       household_size  respondent_age\n",
              "count    23313.000000    23313.000000\n",
              "mean         3.688414       38.793549\n",
              "std          2.280842       16.510611\n",
              "min          0.000000       16.000000\n",
              "25%          2.000000       26.000000\n",
              "50%          3.000000       35.000000\n",
              "75%          5.000000       49.000000\n",
              "max         21.000000      100.000000"
            ],
            "text/html": [
              "\n",
              "  <div id=\"df-21fcc9b5-c0ac-40d2-a4ea-3ede03c743e2\">\n",
              "    <div class=\"colab-df-container\">\n",
              "      <div>\n",
              "<style scoped>\n",
              "    .dataframe tbody tr th:only-of-type {\n",
              "        vertical-align: middle;\n",
              "    }\n",
              "\n",
              "    .dataframe tbody tr th {\n",
              "        vertical-align: top;\n",
              "    }\n",
              "\n",
              "    .dataframe thead th {\n",
              "        text-align: right;\n",
              "    }\n",
              "</style>\n",
              "<table border=\"1\" class=\"dataframe\">\n",
              "  <thead>\n",
              "    <tr style=\"text-align: right;\">\n",
              "      <th></th>\n",
              "      <th>household_size</th>\n",
              "      <th>respondent_age</th>\n",
              "    </tr>\n",
              "  </thead>\n",
              "  <tbody>\n",
              "    <tr>\n",
              "      <th>count</th>\n",
              "      <td>23313.000000</td>\n",
              "      <td>23313.000000</td>\n",
              "    </tr>\n",
              "    <tr>\n",
              "      <th>mean</th>\n",
              "      <td>3.688414</td>\n",
              "      <td>38.793549</td>\n",
              "    </tr>\n",
              "    <tr>\n",
              "      <th>std</th>\n",
              "      <td>2.280842</td>\n",
              "      <td>16.510611</td>\n",
              "    </tr>\n",
              "    <tr>\n",
              "      <th>min</th>\n",
              "      <td>0.000000</td>\n",
              "      <td>16.000000</td>\n",
              "    </tr>\n",
              "    <tr>\n",
              "      <th>25%</th>\n",
              "      <td>2.000000</td>\n",
              "      <td>26.000000</td>\n",
              "    </tr>\n",
              "    <tr>\n",
              "      <th>50%</th>\n",
              "      <td>3.000000</td>\n",
              "      <td>35.000000</td>\n",
              "    </tr>\n",
              "    <tr>\n",
              "      <th>75%</th>\n",
              "      <td>5.000000</td>\n",
              "      <td>49.000000</td>\n",
              "    </tr>\n",
              "    <tr>\n",
              "      <th>max</th>\n",
              "      <td>21.000000</td>\n",
              "      <td>100.000000</td>\n",
              "    </tr>\n",
              "  </tbody>\n",
              "</table>\n",
              "</div>\n",
              "      <button class=\"colab-df-convert\" onclick=\"convertToInteractive('df-21fcc9b5-c0ac-40d2-a4ea-3ede03c743e2')\"\n",
              "              title=\"Convert this dataframe to an interactive table.\"\n",
              "              style=\"display:none;\">\n",
              "        \n",
              "  <svg xmlns=\"http://www.w3.org/2000/svg\" height=\"24px\"viewBox=\"0 0 24 24\"\n",
              "       width=\"24px\">\n",
              "    <path d=\"M0 0h24v24H0V0z\" fill=\"none\"/>\n",
              "    <path d=\"M18.56 5.44l.94 2.06.94-2.06 2.06-.94-2.06-.94-.94-2.06-.94 2.06-2.06.94zm-11 1L8.5 8.5l.94-2.06 2.06-.94-2.06-.94L8.5 2.5l-.94 2.06-2.06.94zm10 10l.94 2.06.94-2.06 2.06-.94-2.06-.94-.94-2.06-.94 2.06-2.06.94z\"/><path d=\"M17.41 7.96l-1.37-1.37c-.4-.4-.92-.59-1.43-.59-.52 0-1.04.2-1.43.59L10.3 9.45l-7.72 7.72c-.78.78-.78 2.05 0 2.83L4 21.41c.39.39.9.59 1.41.59.51 0 1.02-.2 1.41-.59l7.78-7.78 2.81-2.81c.8-.78.8-2.07 0-2.86zM5.41 20L4 18.59l7.72-7.72 1.47 1.35L5.41 20z\"/>\n",
              "  </svg>\n",
              "      </button>\n",
              "      \n",
              "  <style>\n",
              "    .colab-df-container {\n",
              "      display:flex;\n",
              "      flex-wrap:wrap;\n",
              "      gap: 12px;\n",
              "    }\n",
              "\n",
              "    .colab-df-convert {\n",
              "      background-color: #E8F0FE;\n",
              "      border: none;\n",
              "      border-radius: 50%;\n",
              "      cursor: pointer;\n",
              "      display: none;\n",
              "      fill: #1967D2;\n",
              "      height: 32px;\n",
              "      padding: 0 0 0 0;\n",
              "      width: 32px;\n",
              "    }\n",
              "\n",
              "    .colab-df-convert:hover {\n",
              "      background-color: #E2EBFA;\n",
              "      box-shadow: 0px 1px 2px rgba(60, 64, 67, 0.3), 0px 1px 3px 1px rgba(60, 64, 67, 0.15);\n",
              "      fill: #174EA6;\n",
              "    }\n",
              "\n",
              "    [theme=dark] .colab-df-convert {\n",
              "      background-color: #3B4455;\n",
              "      fill: #D2E3FC;\n",
              "    }\n",
              "\n",
              "    [theme=dark] .colab-df-convert:hover {\n",
              "      background-color: #434B5C;\n",
              "      box-shadow: 0px 1px 3px 1px rgba(0, 0, 0, 0.15);\n",
              "      filter: drop-shadow(0px 1px 2px rgba(0, 0, 0, 0.3));\n",
              "      fill: #FFFFFF;\n",
              "    }\n",
              "  </style>\n",
              "\n",
              "      <script>\n",
              "        const buttonEl =\n",
              "          document.querySelector('#df-21fcc9b5-c0ac-40d2-a4ea-3ede03c743e2 button.colab-df-convert');\n",
              "        buttonEl.style.display =\n",
              "          google.colab.kernel.accessAllowed ? 'block' : 'none';\n",
              "\n",
              "        async function convertToInteractive(key) {\n",
              "          const element = document.querySelector('#df-21fcc9b5-c0ac-40d2-a4ea-3ede03c743e2');\n",
              "          const dataTable =\n",
              "            await google.colab.kernel.invokeFunction('convertToInteractive',\n",
              "                                                     [key], {});\n",
              "          if (!dataTable) return;\n",
              "\n",
              "          const docLinkHtml = 'Like what you see? Visit the ' +\n",
              "            '<a target=\"_blank\" href=https://colab.research.google.com/notebooks/data_table.ipynb>data table notebook</a>'\n",
              "            + ' to learn more about interactive tables.';\n",
              "          element.innerHTML = '';\n",
              "          dataTable['output_type'] = 'display_data';\n",
              "          await google.colab.output.renderOutput(dataTable, element);\n",
              "          const docLink = document.createElement('div');\n",
              "          docLink.innerHTML = docLinkHtml;\n",
              "          element.appendChild(docLink);\n",
              "        }\n",
              "      </script>\n",
              "    </div>\n",
              "  </div>\n",
              "  "
            ]
          },
          "metadata": {},
          "execution_count": 262
        }
      ]
    },
    {
      "cell_type": "code",
      "source": [
        "#mode\n",
        "df.household_size.mode()"
      ],
      "metadata": {
        "colab": {
          "base_uri": "https://localhost:8080/"
        },
        "id": "4CksFGf_FhSQ",
        "outputId": "60fdc55a-aaaf-4696-bfe0-2fc3a033160b"
      },
      "execution_count": 263,
      "outputs": [
        {
          "output_type": "execute_result",
          "data": {
            "text/plain": [
              "0    2.0\n",
              "dtype: float64"
            ]
          },
          "metadata": {},
          "execution_count": 263
        }
      ]
    },
    {
      "cell_type": "markdown",
      "source": [
        "Majority of household size was 2"
      ],
      "metadata": {
        "id": "3VHIV8ZdFr_w"
      }
    },
    {
      "cell_type": "code",
      "source": [
        "#mode\n",
        "df.respondent_age.mode()"
      ],
      "metadata": {
        "colab": {
          "base_uri": "https://localhost:8080/"
        },
        "id": "lOaZzkBBFyKr",
        "outputId": "7fa13d9d-5188-466a-f447-8c583f7a7444"
      },
      "execution_count": 264,
      "outputs": [
        {
          "output_type": "execute_result",
          "data": {
            "text/plain": [
              "0    30.0\n",
              "dtype: float64"
            ]
          },
          "metadata": {},
          "execution_count": 264
        }
      ]
    },
    {
      "cell_type": "markdown",
      "source": [
        "most repondents were of age 30"
      ],
      "metadata": {
        "id": "YiuDB2PUF4L9"
      }
    },
    {
      "cell_type": "code",
      "source": [
        "#median\n",
        "df.household_size.median()"
      ],
      "metadata": {
        "colab": {
          "base_uri": "https://localhost:8080/"
        },
        "id": "xgQIiM2VF8t8",
        "outputId": "66d634d8-c80a-405f-9e2a-8dc70d32446f"
      },
      "execution_count": 265,
      "outputs": [
        {
          "output_type": "execute_result",
          "data": {
            "text/plain": [
              "3.0"
            ]
          },
          "metadata": {},
          "execution_count": 265
        }
      ]
    },
    {
      "cell_type": "markdown",
      "source": [
        "the middle value in the household size was 3"
      ],
      "metadata": {
        "id": "i4j3l5siGHy8"
      }
    },
    {
      "cell_type": "code",
      "source": [
        "#median\n",
        "df.respondent_age.median()"
      ],
      "metadata": {
        "colab": {
          "base_uri": "https://localhost:8080/"
        },
        "id": "H6YH4HWNGRRH",
        "outputId": "7aa4eb08-b516-480d-9acc-361245152641"
      },
      "execution_count": 266,
      "outputs": [
        {
          "output_type": "execute_result",
          "data": {
            "text/plain": [
              "35.0"
            ]
          },
          "metadata": {},
          "execution_count": 266
        }
      ]
    },
    {
      "cell_type": "markdown",
      "source": [
        "The middle age after arranging the respondents age was 35"
      ],
      "metadata": {
        "id": "G4areSpTGYvP"
      }
    },
    {
      "cell_type": "markdown",
      "source": [
        "### Measures of dispersion"
      ],
      "metadata": {
        "id": "qAAlpRT5GuTO"
      }
    },
    {
      "cell_type": "code",
      "source": [
        "# QUANTILES\n",
        "\n",
        "# household_size quantiles\n",
        "\n",
        "df[\"household_size\"].quantile([0.25,0.5,0.75])"
      ],
      "metadata": {
        "colab": {
          "base_uri": "https://localhost:8080/"
        },
        "id": "mZYw2ISJG0WE",
        "outputId": "72533e1d-26df-4a34-9911-ed020c7c0941"
      },
      "execution_count": 267,
      "outputs": [
        {
          "output_type": "execute_result",
          "data": {
            "text/plain": [
              "0.25    2.0\n",
              "0.50    3.0\n",
              "0.75    5.0\n",
              "Name: household_size, dtype: float64"
            ]
          },
          "metadata": {},
          "execution_count": 267
        }
      ]
    },
    {
      "cell_type": "code",
      "source": [
        "# respondent age quantiles\n",
        "df['respondent_age'].quantile([0.25,0.5,0.75])"
      ],
      "metadata": {
        "colab": {
          "base_uri": "https://localhost:8080/"
        },
        "id": "K3OW2NUmHFjX",
        "outputId": "f8495f29-871a-4694-b1be-70faf2e3212e"
      },
      "execution_count": 268,
      "outputs": [
        {
          "output_type": "execute_result",
          "data": {
            "text/plain": [
              "0.25    26.0\n",
              "0.50    35.0\n",
              "0.75    49.0\n",
              "Name: respondent_age, dtype: float64"
            ]
          },
          "metadata": {},
          "execution_count": 268
        }
      ]
    },
    {
      "cell_type": "markdown",
      "source": [
        "### Frequency Table (Categorical Analysis)"
      ],
      "metadata": {
        "id": "1EgP9WKb1ACf"
      }
    },
    {
      "cell_type": "code",
      "source": [
        "# Frequency table showing the location of respondents\n",
        "\n",
        "area = pd.crosstab(index = df['type_of_location'], columns = 'count')\n",
        "area"
      ],
      "metadata": {
        "colab": {
          "base_uri": "https://localhost:8080/",
          "height": 0
        },
        "id": "Wcj87Gb_0juy",
        "outputId": "8af41a3f-8bda-47f1-b9a9-ba35a0c03dcb"
      },
      "execution_count": 269,
      "outputs": [
        {
          "output_type": "execute_result",
          "data": {
            "text/plain": [
              "col_0             count\n",
              "type_of_location       \n",
              "Rural             14247\n",
              "Urban              9066"
            ],
            "text/html": [
              "\n",
              "  <div id=\"df-18e75377-94e4-47b0-a45a-b1cb0ac154b2\">\n",
              "    <div class=\"colab-df-container\">\n",
              "      <div>\n",
              "<style scoped>\n",
              "    .dataframe tbody tr th:only-of-type {\n",
              "        vertical-align: middle;\n",
              "    }\n",
              "\n",
              "    .dataframe tbody tr th {\n",
              "        vertical-align: top;\n",
              "    }\n",
              "\n",
              "    .dataframe thead th {\n",
              "        text-align: right;\n",
              "    }\n",
              "</style>\n",
              "<table border=\"1\" class=\"dataframe\">\n",
              "  <thead>\n",
              "    <tr style=\"text-align: right;\">\n",
              "      <th>col_0</th>\n",
              "      <th>count</th>\n",
              "    </tr>\n",
              "    <tr>\n",
              "      <th>type_of_location</th>\n",
              "      <th></th>\n",
              "    </tr>\n",
              "  </thead>\n",
              "  <tbody>\n",
              "    <tr>\n",
              "      <th>Rural</th>\n",
              "      <td>14247</td>\n",
              "    </tr>\n",
              "    <tr>\n",
              "      <th>Urban</th>\n",
              "      <td>9066</td>\n",
              "    </tr>\n",
              "  </tbody>\n",
              "</table>\n",
              "</div>\n",
              "      <button class=\"colab-df-convert\" onclick=\"convertToInteractive('df-18e75377-94e4-47b0-a45a-b1cb0ac154b2')\"\n",
              "              title=\"Convert this dataframe to an interactive table.\"\n",
              "              style=\"display:none;\">\n",
              "        \n",
              "  <svg xmlns=\"http://www.w3.org/2000/svg\" height=\"24px\"viewBox=\"0 0 24 24\"\n",
              "       width=\"24px\">\n",
              "    <path d=\"M0 0h24v24H0V0z\" fill=\"none\"/>\n",
              "    <path d=\"M18.56 5.44l.94 2.06.94-2.06 2.06-.94-2.06-.94-.94-2.06-.94 2.06-2.06.94zm-11 1L8.5 8.5l.94-2.06 2.06-.94-2.06-.94L8.5 2.5l-.94 2.06-2.06.94zm10 10l.94 2.06.94-2.06 2.06-.94-2.06-.94-.94-2.06-.94 2.06-2.06.94z\"/><path d=\"M17.41 7.96l-1.37-1.37c-.4-.4-.92-.59-1.43-.59-.52 0-1.04.2-1.43.59L10.3 9.45l-7.72 7.72c-.78.78-.78 2.05 0 2.83L4 21.41c.39.39.9.59 1.41.59.51 0 1.02-.2 1.41-.59l7.78-7.78 2.81-2.81c.8-.78.8-2.07 0-2.86zM5.41 20L4 18.59l7.72-7.72 1.47 1.35L5.41 20z\"/>\n",
              "  </svg>\n",
              "      </button>\n",
              "      \n",
              "  <style>\n",
              "    .colab-df-container {\n",
              "      display:flex;\n",
              "      flex-wrap:wrap;\n",
              "      gap: 12px;\n",
              "    }\n",
              "\n",
              "    .colab-df-convert {\n",
              "      background-color: #E8F0FE;\n",
              "      border: none;\n",
              "      border-radius: 50%;\n",
              "      cursor: pointer;\n",
              "      display: none;\n",
              "      fill: #1967D2;\n",
              "      height: 32px;\n",
              "      padding: 0 0 0 0;\n",
              "      width: 32px;\n",
              "    }\n",
              "\n",
              "    .colab-df-convert:hover {\n",
              "      background-color: #E2EBFA;\n",
              "      box-shadow: 0px 1px 2px rgba(60, 64, 67, 0.3), 0px 1px 3px 1px rgba(60, 64, 67, 0.15);\n",
              "      fill: #174EA6;\n",
              "    }\n",
              "\n",
              "    [theme=dark] .colab-df-convert {\n",
              "      background-color: #3B4455;\n",
              "      fill: #D2E3FC;\n",
              "    }\n",
              "\n",
              "    [theme=dark] .colab-df-convert:hover {\n",
              "      background-color: #434B5C;\n",
              "      box-shadow: 0px 1px 3px 1px rgba(0, 0, 0, 0.15);\n",
              "      filter: drop-shadow(0px 1px 2px rgba(0, 0, 0, 0.3));\n",
              "      fill: #FFFFFF;\n",
              "    }\n",
              "  </style>\n",
              "\n",
              "      <script>\n",
              "        const buttonEl =\n",
              "          document.querySelector('#df-18e75377-94e4-47b0-a45a-b1cb0ac154b2 button.colab-df-convert');\n",
              "        buttonEl.style.display =\n",
              "          google.colab.kernel.accessAllowed ? 'block' : 'none';\n",
              "\n",
              "        async function convertToInteractive(key) {\n",
              "          const element = document.querySelector('#df-18e75377-94e4-47b0-a45a-b1cb0ac154b2');\n",
              "          const dataTable =\n",
              "            await google.colab.kernel.invokeFunction('convertToInteractive',\n",
              "                                                     [key], {});\n",
              "          if (!dataTable) return;\n",
              "\n",
              "          const docLinkHtml = 'Like what you see? Visit the ' +\n",
              "            '<a target=\"_blank\" href=https://colab.research.google.com/notebooks/data_table.ipynb>data table notebook</a>'\n",
              "            + ' to learn more about interactive tables.';\n",
              "          element.innerHTML = '';\n",
              "          dataTable['output_type'] = 'display_data';\n",
              "          await google.colab.output.renderOutput(dataTable, element);\n",
              "          const docLink = document.createElement('div');\n",
              "          docLink.innerHTML = docLinkHtml;\n",
              "          element.appendChild(docLink);\n",
              "        }\n",
              "      </script>\n",
              "    </div>\n",
              "  </div>\n",
              "  "
            ]
          },
          "metadata": {},
          "execution_count": 269
        }
      ]
    },
    {
      "cell_type": "markdown",
      "source": [
        "Majority of the respondents are from the rural areas"
      ],
      "metadata": {
        "id": "vSmovnB_1d4H"
      }
    },
    {
      "cell_type": "code",
      "source": [
        "# Frequncy table indicating the respondent marital status categories along with their counts\n",
        "\n",
        "marital_status = pd.crosstab(index = df['marital_status'], columns = 'count')\n",
        "marital_status\n",
        "\n"
      ],
      "metadata": {
        "colab": {
          "base_uri": "https://localhost:8080/",
          "height": 0
        },
        "id": "psCL6zaD1cty",
        "outputId": "92a259a2-79a3-4b10-dd0f-9e055eb36624"
      },
      "execution_count": 270,
      "outputs": [
        {
          "output_type": "execute_result",
          "data": {
            "text/plain": [
              "col_0                    count\n",
              "marital_status                \n",
              "Divorced/Seperated        2047\n",
              "Dont know                    8\n",
              "Married/Living together  10682\n",
              "Single/Never Married      7899\n",
              "Widowed                   2677"
            ],
            "text/html": [
              "\n",
              "  <div id=\"df-153b297c-6cd9-4215-9be3-cc35dbcc3b17\">\n",
              "    <div class=\"colab-df-container\">\n",
              "      <div>\n",
              "<style scoped>\n",
              "    .dataframe tbody tr th:only-of-type {\n",
              "        vertical-align: middle;\n",
              "    }\n",
              "\n",
              "    .dataframe tbody tr th {\n",
              "        vertical-align: top;\n",
              "    }\n",
              "\n",
              "    .dataframe thead th {\n",
              "        text-align: right;\n",
              "    }\n",
              "</style>\n",
              "<table border=\"1\" class=\"dataframe\">\n",
              "  <thead>\n",
              "    <tr style=\"text-align: right;\">\n",
              "      <th>col_0</th>\n",
              "      <th>count</th>\n",
              "    </tr>\n",
              "    <tr>\n",
              "      <th>marital_status</th>\n",
              "      <th></th>\n",
              "    </tr>\n",
              "  </thead>\n",
              "  <tbody>\n",
              "    <tr>\n",
              "      <th>Divorced/Seperated</th>\n",
              "      <td>2047</td>\n",
              "    </tr>\n",
              "    <tr>\n",
              "      <th>Dont know</th>\n",
              "      <td>8</td>\n",
              "    </tr>\n",
              "    <tr>\n",
              "      <th>Married/Living together</th>\n",
              "      <td>10682</td>\n",
              "    </tr>\n",
              "    <tr>\n",
              "      <th>Single/Never Married</th>\n",
              "      <td>7899</td>\n",
              "    </tr>\n",
              "    <tr>\n",
              "      <th>Widowed</th>\n",
              "      <td>2677</td>\n",
              "    </tr>\n",
              "  </tbody>\n",
              "</table>\n",
              "</div>\n",
              "      <button class=\"colab-df-convert\" onclick=\"convertToInteractive('df-153b297c-6cd9-4215-9be3-cc35dbcc3b17')\"\n",
              "              title=\"Convert this dataframe to an interactive table.\"\n",
              "              style=\"display:none;\">\n",
              "        \n",
              "  <svg xmlns=\"http://www.w3.org/2000/svg\" height=\"24px\"viewBox=\"0 0 24 24\"\n",
              "       width=\"24px\">\n",
              "    <path d=\"M0 0h24v24H0V0z\" fill=\"none\"/>\n",
              "    <path d=\"M18.56 5.44l.94 2.06.94-2.06 2.06-.94-2.06-.94-.94-2.06-.94 2.06-2.06.94zm-11 1L8.5 8.5l.94-2.06 2.06-.94-2.06-.94L8.5 2.5l-.94 2.06-2.06.94zm10 10l.94 2.06.94-2.06 2.06-.94-2.06-.94-.94-2.06-.94 2.06-2.06.94z\"/><path d=\"M17.41 7.96l-1.37-1.37c-.4-.4-.92-.59-1.43-.59-.52 0-1.04.2-1.43.59L10.3 9.45l-7.72 7.72c-.78.78-.78 2.05 0 2.83L4 21.41c.39.39.9.59 1.41.59.51 0 1.02-.2 1.41-.59l7.78-7.78 2.81-2.81c.8-.78.8-2.07 0-2.86zM5.41 20L4 18.59l7.72-7.72 1.47 1.35L5.41 20z\"/>\n",
              "  </svg>\n",
              "      </button>\n",
              "      \n",
              "  <style>\n",
              "    .colab-df-container {\n",
              "      display:flex;\n",
              "      flex-wrap:wrap;\n",
              "      gap: 12px;\n",
              "    }\n",
              "\n",
              "    .colab-df-convert {\n",
              "      background-color: #E8F0FE;\n",
              "      border: none;\n",
              "      border-radius: 50%;\n",
              "      cursor: pointer;\n",
              "      display: none;\n",
              "      fill: #1967D2;\n",
              "      height: 32px;\n",
              "      padding: 0 0 0 0;\n",
              "      width: 32px;\n",
              "    }\n",
              "\n",
              "    .colab-df-convert:hover {\n",
              "      background-color: #E2EBFA;\n",
              "      box-shadow: 0px 1px 2px rgba(60, 64, 67, 0.3), 0px 1px 3px 1px rgba(60, 64, 67, 0.15);\n",
              "      fill: #174EA6;\n",
              "    }\n",
              "\n",
              "    [theme=dark] .colab-df-convert {\n",
              "      background-color: #3B4455;\n",
              "      fill: #D2E3FC;\n",
              "    }\n",
              "\n",
              "    [theme=dark] .colab-df-convert:hover {\n",
              "      background-color: #434B5C;\n",
              "      box-shadow: 0px 1px 3px 1px rgba(0, 0, 0, 0.15);\n",
              "      filter: drop-shadow(0px 1px 2px rgba(0, 0, 0, 0.3));\n",
              "      fill: #FFFFFF;\n",
              "    }\n",
              "  </style>\n",
              "\n",
              "      <script>\n",
              "        const buttonEl =\n",
              "          document.querySelector('#df-153b297c-6cd9-4215-9be3-cc35dbcc3b17 button.colab-df-convert');\n",
              "        buttonEl.style.display =\n",
              "          google.colab.kernel.accessAllowed ? 'block' : 'none';\n",
              "\n",
              "        async function convertToInteractive(key) {\n",
              "          const element = document.querySelector('#df-153b297c-6cd9-4215-9be3-cc35dbcc3b17');\n",
              "          const dataTable =\n",
              "            await google.colab.kernel.invokeFunction('convertToInteractive',\n",
              "                                                     [key], {});\n",
              "          if (!dataTable) return;\n",
              "\n",
              "          const docLinkHtml = 'Like what you see? Visit the ' +\n",
              "            '<a target=\"_blank\" href=https://colab.research.google.com/notebooks/data_table.ipynb>data table notebook</a>'\n",
              "            + ' to learn more about interactive tables.';\n",
              "          element.innerHTML = '';\n",
              "          dataTable['output_type'] = 'display_data';\n",
              "          await google.colab.output.renderOutput(dataTable, element);\n",
              "          const docLink = document.createElement('div');\n",
              "          docLink.innerHTML = docLinkHtml;\n",
              "          element.appendChild(docLink);\n",
              "        }\n",
              "      </script>\n",
              "    </div>\n",
              "  </div>\n",
              "  "
            ]
          },
          "metadata": {},
          "execution_count": 270
        }
      ]
    },
    {
      "cell_type": "markdown",
      "source": [
        "Most of the respondents are Married/Living together based on the requency table while the least were those who 'Dont Know' their marital status."
      ],
      "metadata": {
        "id": "bki4t9hr2F4w"
      }
    },
    {
      "cell_type": "code",
      "source": [
        "# Frequncy table indicatin the number o those ointerviewd who had an access to a cell phone\n",
        "\n",
        "\n",
        "cell_phone = pd.crosstab(index = df['cell_phone_access'], columns = 'count')\n",
        "cell_phone\n",
        "\n",
        " "
      ],
      "metadata": {
        "id": "8xucmhCk1_LD",
        "colab": {
          "base_uri": "https://localhost:8080/",
          "height": 0
        },
        "outputId": "7d6e8ca4-d7a6-49bd-d1d6-c32e13457470"
      },
      "execution_count": 271,
      "outputs": [
        {
          "output_type": "execute_result",
          "data": {
            "text/plain": [
              "col_0              count\n",
              "cell_phone_access       \n",
              "No                  5998\n",
              "Yes                17315"
            ],
            "text/html": [
              "\n",
              "  <div id=\"df-25c7191d-e09a-446d-b34e-4d5902101b0d\">\n",
              "    <div class=\"colab-df-container\">\n",
              "      <div>\n",
              "<style scoped>\n",
              "    .dataframe tbody tr th:only-of-type {\n",
              "        vertical-align: middle;\n",
              "    }\n",
              "\n",
              "    .dataframe tbody tr th {\n",
              "        vertical-align: top;\n",
              "    }\n",
              "\n",
              "    .dataframe thead th {\n",
              "        text-align: right;\n",
              "    }\n",
              "</style>\n",
              "<table border=\"1\" class=\"dataframe\">\n",
              "  <thead>\n",
              "    <tr style=\"text-align: right;\">\n",
              "      <th>col_0</th>\n",
              "      <th>count</th>\n",
              "    </tr>\n",
              "    <tr>\n",
              "      <th>cell_phone_access</th>\n",
              "      <th></th>\n",
              "    </tr>\n",
              "  </thead>\n",
              "  <tbody>\n",
              "    <tr>\n",
              "      <th>No</th>\n",
              "      <td>5998</td>\n",
              "    </tr>\n",
              "    <tr>\n",
              "      <th>Yes</th>\n",
              "      <td>17315</td>\n",
              "    </tr>\n",
              "  </tbody>\n",
              "</table>\n",
              "</div>\n",
              "      <button class=\"colab-df-convert\" onclick=\"convertToInteractive('df-25c7191d-e09a-446d-b34e-4d5902101b0d')\"\n",
              "              title=\"Convert this dataframe to an interactive table.\"\n",
              "              style=\"display:none;\">\n",
              "        \n",
              "  <svg xmlns=\"http://www.w3.org/2000/svg\" height=\"24px\"viewBox=\"0 0 24 24\"\n",
              "       width=\"24px\">\n",
              "    <path d=\"M0 0h24v24H0V0z\" fill=\"none\"/>\n",
              "    <path d=\"M18.56 5.44l.94 2.06.94-2.06 2.06-.94-2.06-.94-.94-2.06-.94 2.06-2.06.94zm-11 1L8.5 8.5l.94-2.06 2.06-.94-2.06-.94L8.5 2.5l-.94 2.06-2.06.94zm10 10l.94 2.06.94-2.06 2.06-.94-2.06-.94-.94-2.06-.94 2.06-2.06.94z\"/><path d=\"M17.41 7.96l-1.37-1.37c-.4-.4-.92-.59-1.43-.59-.52 0-1.04.2-1.43.59L10.3 9.45l-7.72 7.72c-.78.78-.78 2.05 0 2.83L4 21.41c.39.39.9.59 1.41.59.51 0 1.02-.2 1.41-.59l7.78-7.78 2.81-2.81c.8-.78.8-2.07 0-2.86zM5.41 20L4 18.59l7.72-7.72 1.47 1.35L5.41 20z\"/>\n",
              "  </svg>\n",
              "      </button>\n",
              "      \n",
              "  <style>\n",
              "    .colab-df-container {\n",
              "      display:flex;\n",
              "      flex-wrap:wrap;\n",
              "      gap: 12px;\n",
              "    }\n",
              "\n",
              "    .colab-df-convert {\n",
              "      background-color: #E8F0FE;\n",
              "      border: none;\n",
              "      border-radius: 50%;\n",
              "      cursor: pointer;\n",
              "      display: none;\n",
              "      fill: #1967D2;\n",
              "      height: 32px;\n",
              "      padding: 0 0 0 0;\n",
              "      width: 32px;\n",
              "    }\n",
              "\n",
              "    .colab-df-convert:hover {\n",
              "      background-color: #E2EBFA;\n",
              "      box-shadow: 0px 1px 2px rgba(60, 64, 67, 0.3), 0px 1px 3px 1px rgba(60, 64, 67, 0.15);\n",
              "      fill: #174EA6;\n",
              "    }\n",
              "\n",
              "    [theme=dark] .colab-df-convert {\n",
              "      background-color: #3B4455;\n",
              "      fill: #D2E3FC;\n",
              "    }\n",
              "\n",
              "    [theme=dark] .colab-df-convert:hover {\n",
              "      background-color: #434B5C;\n",
              "      box-shadow: 0px 1px 3px 1px rgba(0, 0, 0, 0.15);\n",
              "      filter: drop-shadow(0px 1px 2px rgba(0, 0, 0, 0.3));\n",
              "      fill: #FFFFFF;\n",
              "    }\n",
              "  </style>\n",
              "\n",
              "      <script>\n",
              "        const buttonEl =\n",
              "          document.querySelector('#df-25c7191d-e09a-446d-b34e-4d5902101b0d button.colab-df-convert');\n",
              "        buttonEl.style.display =\n",
              "          google.colab.kernel.accessAllowed ? 'block' : 'none';\n",
              "\n",
              "        async function convertToInteractive(key) {\n",
              "          const element = document.querySelector('#df-25c7191d-e09a-446d-b34e-4d5902101b0d');\n",
              "          const dataTable =\n",
              "            await google.colab.kernel.invokeFunction('convertToInteractive',\n",
              "                                                     [key], {});\n",
              "          if (!dataTable) return;\n",
              "\n",
              "          const docLinkHtml = 'Like what you see? Visit the ' +\n",
              "            '<a target=\"_blank\" href=https://colab.research.google.com/notebooks/data_table.ipynb>data table notebook</a>'\n",
              "            + ' to learn more about interactive tables.';\n",
              "          element.innerHTML = '';\n",
              "          dataTable['output_type'] = 'display_data';\n",
              "          await google.colab.output.renderOutput(dataTable, element);\n",
              "          const docLink = document.createElement('div');\n",
              "          docLink.innerHTML = docLinkHtml;\n",
              "          element.appendChild(docLink);\n",
              "        }\n",
              "      </script>\n",
              "    </div>\n",
              "  </div>\n",
              "  "
            ]
          },
          "metadata": {},
          "execution_count": 271
        }
      ]
    },
    {
      "cell_type": "markdown",
      "source": [
        "the frequency table shows that most of those interviewed had cell phone access"
      ],
      "metadata": {
        "id": "71DA2YQPEe_t"
      }
    },
    {
      "cell_type": "markdown",
      "source": [
        "## 2) **Bivariate Analysis**"
      ],
      "metadata": {
        "id": "949nhUJDEnl7"
      }
    },
    {
      "cell_type": "markdown",
      "source": [
        "### Correlation"
      ],
      "metadata": {
        "id": "-mdlIW5ocz3T"
      }
    },
    {
      "cell_type": "code",
      "source": [
        "#here we are going to analyse two variables to determine their relationships and causes\n",
        "\n",
        "#showing corelation between respondent age and household size using a scatter plot\n",
        "\n",
        "plt.figure(dpi = 100)\n",
        "sns.regplot(x= df['respondent_age'], y= df['household_size'], fit_reg = False, color = 'blue')\n",
        "plt.title(\"A scatter plot of respondent age vs household size\", color = 'blue')\n",
        "plt.show()\n"
      ],
      "metadata": {
        "id": "moU3vtwQIp7Q",
        "colab": {
          "base_uri": "https://localhost:8080/",
          "height": 404
        },
        "outputId": "abba74e3-928f-4610-f309-f2e307392dc5"
      },
      "execution_count": 272,
      "outputs": [
        {
          "output_type": "display_data",
          "data": {
            "text/plain": [
              "<Figure size 600x400 with 1 Axes>"
            ],
            "image/png": "[encoded data removed]"
          },
          "metadata": {}
        }
      ]
    },
    {
      "cell_type": "markdown",
      "source": [
        "From the scatter plot, it shows a weak negative correlation between the household size and respondents age "
      ],
      "metadata": {
        "id": "URfCKiHSbQRF"
      }
    },
    {
      "cell_type": "code",
      "source": [
        "#calculating the correlation between the household size and repsondent age variables\n",
        "\n",
        "df['respondent_age'].corr(df['household_size'])"
      ],
      "metadata": {
        "colab": {
          "base_uri": "https://localhost:8080/"
        },
        "id": "Ty2XHUcvbBQ_",
        "outputId": "5365fb98-9f8c-4d2e-8f14-26f92bedac0f"
      },
      "execution_count": 273,
      "outputs": [
        {
          "output_type": "execute_result",
          "data": {
            "text/plain": [
              "-0.11918485538538871"
            ]
          },
          "metadata": {},
          "execution_count": 273
        }
      ]
    },
    {
      "cell_type": "markdown",
      "source": [
        "Also from the calculation, it shows a weak neative correlation"
      ],
      "metadata": {
        "id": "psZ0V8btdOkc"
      }
    },
    {
      "cell_type": "markdown",
      "source": [
        "Correlation for the whole dataset"
      ],
      "metadata": {
        "id": "4R0bYAE_doYN"
      }
    },
    {
      "cell_type": "code",
      "source": [
        "#fnding the correlation for the whole dataset with numerical variables\n",
        "df.corr()"
      ],
      "metadata": {
        "colab": {
          "base_uri": "https://localhost:8080/",
          "height": 143
        },
        "id": "BeMqXwgqdLDF",
        "outputId": "bbcd7501-dc77-44af-cdae-83a11e03d536"
      },
      "execution_count": 274,
      "outputs": [
        {
          "output_type": "execute_result",
          "data": {
            "text/plain": [
              "                    year  household_size  respondent_age\n",
              "year            1.000000       -0.052524       -0.017608\n",
              "household_size -0.052524        1.000000       -0.119185\n",
              "respondent_age -0.017608       -0.119185        1.000000"
            ],
            "text/html": [
              "\n",
              "  <div id=\"df-aebaf03d-8d34-4890-993b-6a42d5de7ec9\">\n",
              "    <div class=\"colab-df-container\">\n",
              "      <div>\n",
              "<style scoped>\n",
              "    .dataframe tbody tr th:only-of-type {\n",
              "        vertical-align: middle;\n",
              "    }\n",
              "\n",
              "    .dataframe tbody tr th {\n",
              "        vertical-align: top;\n",
              "    }\n",
              "\n",
              "    .dataframe thead th {\n",
              "        text-align: right;\n",
              "    }\n",
              "</style>\n",
              "<table border=\"1\" class=\"dataframe\">\n",
              "  <thead>\n",
              "    <tr style=\"text-align: right;\">\n",
              "      <th></th>\n",
              "      <th>year</th>\n",
              "      <th>household_size</th>\n",
              "      <th>respondent_age</th>\n",
              "    </tr>\n",
              "  </thead>\n",
              "  <tbody>\n",
              "    <tr>\n",
              "      <th>year</th>\n",
              "      <td>1.000000</td>\n",
              "      <td>-0.052524</td>\n",
              "      <td>-0.017608</td>\n",
              "    </tr>\n",
              "    <tr>\n",
              "      <th>household_size</th>\n",
              "      <td>-0.052524</td>\n",
              "      <td>1.000000</td>\n",
              "      <td>-0.119185</td>\n",
              "    </tr>\n",
              "    <tr>\n",
              "      <th>respondent_age</th>\n",
              "      <td>-0.017608</td>\n",
              "      <td>-0.119185</td>\n",
              "      <td>1.000000</td>\n",
              "    </tr>\n",
              "  </tbody>\n",
              "</table>\n",
              "</div>\n",
              "      <button class=\"colab-df-convert\" onclick=\"convertToInteractive('df-aebaf03d-8d34-4890-993b-6a42d5de7ec9')\"\n",
              "              title=\"Convert this dataframe to an interactive table.\"\n",
              "              style=\"display:none;\">\n",
              "        \n",
              "  <svg xmlns=\"http://www.w3.org/2000/svg\" height=\"24px\"viewBox=\"0 0 24 24\"\n",
              "       width=\"24px\">\n",
              "    <path d=\"M0 0h24v24H0V0z\" fill=\"none\"/>\n",
              "    <path d=\"M18.56 5.44l.94 2.06.94-2.06 2.06-.94-2.06-.94-.94-2.06-.94 2.06-2.06.94zm-11 1L8.5 8.5l.94-2.06 2.06-.94-2.06-.94L8.5 2.5l-.94 2.06-2.06.94zm10 10l.94 2.06.94-2.06 2.06-.94-2.06-.94-.94-2.06-.94 2.06-2.06.94z\"/><path d=\"M17.41 7.96l-1.37-1.37c-.4-.4-.92-.59-1.43-.59-.52 0-1.04.2-1.43.59L10.3 9.45l-7.72 7.72c-.78.78-.78 2.05 0 2.83L4 21.41c.39.39.9.59 1.41.59.51 0 1.02-.2 1.41-.59l7.78-7.78 2.81-2.81c.8-.78.8-2.07 0-2.86zM5.41 20L4 18.59l7.72-7.72 1.47 1.35L5.41 20z\"/>\n",
              "  </svg>\n",
              "      </button>\n",
              "      \n",
              "  <style>\n",
              "    .colab-df-container {\n",
              "      display:flex;\n",
              "      flex-wrap:wrap;\n",
              "      gap: 12px;\n",
              "    }\n",
              "\n",
              "    .colab-df-convert {\n",
              "      background-color: #E8F0FE;\n",
              "      border: none;\n",
              "      border-radius: 50%;\n",
              "      cursor: pointer;\n",
              "      display: none;\n",
              "      fill: #1967D2;\n",
              "      height: 32px;\n",
              "      padding: 0 0 0 0;\n",
              "      width: 32px;\n",
              "    }\n",
              "\n",
              "    .colab-df-convert:hover {\n",
              "      background-color: #E2EBFA;\n",
              "      box-shadow: 0px 1px 2px rgba(60, 64, 67, 0.3), 0px 1px 3px 1px rgba(60, 64, 67, 0.15);\n",
              "      fill: #174EA6;\n",
              "    }\n",
              "\n",
              "    [theme=dark] .colab-df-convert {\n",
              "      background-color: #3B4455;\n",
              "      fill: #D2E3FC;\n",
              "    }\n",
              "\n",
              "    [theme=dark] .colab-df-convert:hover {\n",
              "      background-color: #434B5C;\n",
              "      box-shadow: 0px 1px 3px 1px rgba(0, 0, 0, 0.15);\n",
              "      filter: drop-shadow(0px 1px 2px rgba(0, 0, 0, 0.3));\n",
              "      fill: #FFFFFF;\n",
              "    }\n",
              "  </style>\n",
              "\n",
              "      <script>\n",
              "        const buttonEl =\n",
              "          document.querySelector('#df-aebaf03d-8d34-4890-993b-6a42d5de7ec9 button.colab-df-convert');\n",
              "        buttonEl.style.display =\n",
              "          google.colab.kernel.accessAllowed ? 'block' : 'none';\n",
              "\n",
              "        async function convertToInteractive(key) {\n",
              "          const element = document.querySelector('#df-aebaf03d-8d34-4890-993b-6a42d5de7ec9');\n",
              "          const dataTable =\n",
              "            await google.colab.kernel.invokeFunction('convertToInteractive',\n",
              "                                                     [key], {});\n",
              "          if (!dataTable) return;\n",
              "\n",
              "          const docLinkHtml = 'Like what you see? Visit the ' +\n",
              "            '<a target=\"_blank\" href=https://colab.research.google.com/notebooks/data_table.ipynb>data table notebook</a>'\n",
              "            + ' to learn more about interactive tables.';\n",
              "          element.innerHTML = '';\n",
              "          dataTable['output_type'] = 'display_data';\n",
              "          await google.colab.output.renderOutput(dataTable, element);\n",
              "          const docLink = document.createElement('div');\n",
              "          docLink.innerHTML = docLinkHtml;\n",
              "          element.appendChild(docLink);\n",
              "        }\n",
              "      </script>\n",
              "    </div>\n",
              "  </div>\n",
              "  "
            ]
          },
          "metadata": {},
          "execution_count": 274
        }
      ]
    },
    {
      "cell_type": "markdown",
      "source": [
        "###Test Hypotheses"
      ],
      "metadata": {
        "id": "fAvwfcBxjm1L"
      }
    },
    {
      "cell_type": "code",
      "source": [
        "#To get the right hypotheses, we need to drop some variables that add no value in the analysis, like marital status=dont know, level of education=dont know\n",
        "\n",
        "#find out rows with 'refuse to answer' and 'dont know' and drop them\n",
        "job = df[df['type_of_job'] == 'Dont Know/Refuse to answer'].index.to_list()\n",
        "\n",
        "marital_status = df[df['marital_status'] == 'Dont know'].index.to_list()\n",
        "\n",
        "education = df[df['level_of_educuation'] == 'Other/Dont know/RTA'].index.to_list()\n",
        "\n",
        "\n",
        "remove = set(education + marital_status + job)\n",
        "# Drop rows with identified indices\n",
        "df.drop(index=remove, inplace=True)"
      ],
      "metadata": {
        "id": "CgotIu7Mdyn7"
      },
      "execution_count": 275,
      "outputs": []
    },
    {
      "cell_type": "code",
      "source": [
        "#Chi Square Test on whether relationship between level of education and if the respondent has a bank account or not\n",
        "\n",
        "edu_level = pd.crosstab(df['has_a_bank_account'], df['level_of_educuation'])\n",
        "edu_level\n",
        "\n",
        "#chi square test whether the relationship between level of education and if the respondent has a bank account or not.\n",
        "\n",
        "#Null Hypothesis : Level of education do not have an influence on if an individual do not or have a bank account\n",
        "#Alternative Hypothesis : Level of education has an influence on if an individual has a bank account or not\n",
        "\n",
        "\n"
      ],
      "metadata": {
        "colab": {
          "base_uri": "https://localhost:8080/",
          "height": 205
        },
        "id": "AvICRraAk9vY",
        "outputId": "05109463-c57f-4f6a-dc0e-0b97aa8aabbd"
      },
      "execution_count": 276,
      "outputs": [
        {
          "output_type": "execute_result",
          "data": {
            "text/plain": [
              "level_of_educuation  No formal education  Primary education  \\\n",
              "has_a_bank_account                                            \n",
              "No                                  4273              11529   \n",
              "Yes                                  176               1078   \n",
              "\n",
              "level_of_educuation  Secondary education  Tertiary education  \\\n",
              "has_a_bank_account                                             \n",
              "No                                  3202                 554   \n",
              "Yes                                  973                 587   \n",
              "\n",
              "level_of_educuation  Vocational/Specialised training  \n",
              "has_a_bank_account                                    \n",
              "No                                               345  \n",
              "Yes                                              455  "
            ],
            "text/html": [
              "\n",
              "  <div id=\"df-68e7d265-b24f-46b5-ba12-b3f2d880427d\">\n",
              "    <div class=\"colab-df-container\">\n",
              "      <div>\n",
              "<style scoped>\n",
              "    .dataframe tbody tr th:only-of-type {\n",
              "        vertical-align: middle;\n",
              "    }\n",
              "\n",
              "    .dataframe tbody tr th {\n",
              "        vertical-align: top;\n",
              "    }\n",
              "\n",
              "    .dataframe thead th {\n",
              "        text-align: right;\n",
              "    }\n",
              "</style>\n",
              "<table border=\"1\" class=\"dataframe\">\n",
              "  <thead>\n",
              "    <tr style=\"text-align: right;\">\n",
              "      <th>level_of_educuation</th>\n",
              "      <th>No formal education</th>\n",
              "      <th>Primary education</th>\n",
              "      <th>Secondary education</th>\n",
              "      <th>Tertiary education</th>\n",
              "      <th>Vocational/Specialised training</th>\n",
              "    </tr>\n",
              "    <tr>\n",
              "      <th>has_a_bank_account</th>\n",
              "      <th></th>\n",
              "      <th></th>\n",
              "      <th></th>\n",
              "      <th></th>\n",
              "      <th></th>\n",
              "    </tr>\n",
              "  </thead>\n",
              "  <tbody>\n",
              "    <tr>\n",
              "      <th>No</th>\n",
              "      <td>4273</td>\n",
              "      <td>11529</td>\n",
              "      <td>3202</td>\n",
              "      <td>554</td>\n",
              "      <td>345</td>\n",
              "    </tr>\n",
              "    <tr>\n",
              "      <th>Yes</th>\n",
              "      <td>176</td>\n",
              "      <td>1078</td>\n",
              "      <td>973</td>\n",
              "      <td>587</td>\n",
              "      <td>455</td>\n",
              "    </tr>\n",
              "  </tbody>\n",
              "</table>\n",
              "</div>\n",
              "      <button class=\"colab-df-convert\" onclick=\"convertToInteractive('df-68e7d265-b24f-46b5-ba12-b3f2d880427d')\"\n",
              "              title=\"Convert this dataframe to an interactive table.\"\n",
              "              style=\"display:none;\">\n",
              "        \n",
              "  <svg xmlns=\"http://www.w3.org/2000/svg\" height=\"24px\"viewBox=\"0 0 24 24\"\n",
              "       width=\"24px\">\n",
              "    <path d=\"M0 0h24v24H0V0z\" fill=\"none\"/>\n",
              "    <path d=\"M18.56 5.44l.94 2.06.94-2.06 2.06-.94-2.06-.94-.94-2.06-.94 2.06-2.06.94zm-11 1L8.5 8.5l.94-2.06 2.06-.94-2.06-.94L8.5 2.5l-.94 2.06-2.06.94zm10 10l.94 2.06.94-2.06 2.06-.94-2.06-.94-.94-2.06-.94 2.06-2.06.94z\"/><path d=\"M17.41 7.96l-1.37-1.37c-.4-.4-.92-.59-1.43-.59-.52 0-1.04.2-1.43.59L10.3 9.45l-7.72 7.72c-.78.78-.78 2.05 0 2.83L4 21.41c.39.39.9.59 1.41.59.51 0 1.02-.2 1.41-.59l7.78-7.78 2.81-2.81c.8-.78.8-2.07 0-2.86zM5.41 20L4 18.59l7.72-7.72 1.47 1.35L5.41 20z\"/>\n",
              "  </svg>\n",
              "      </button>\n",
              "      \n",
              "  <style>\n",
              "    .colab-df-container {\n",
              "      display:flex;\n",
              "      flex-wrap:wrap;\n",
              "      gap: 12px;\n",
              "    }\n",
              "\n",
              "    .colab-df-convert {\n",
              "      background-color: #E8F0FE;\n",
              "      border: none;\n",
              "      border-radius: 50%;\n",
              "      cursor: pointer;\n",
              "      display: none;\n",
              "      fill: #1967D2;\n",
              "      height: 32px;\n",
              "      padding: 0 0 0 0;\n",
              "      width: 32px;\n",
              "    }\n",
              "\n",
              "    .colab-df-convert:hover {\n",
              "      background-color: #E2EBFA;\n",
              "      box-shadow: 0px 1px 2px rgba(60, 64, 67, 0.3), 0px 1px 3px 1px rgba(60, 64, 67, 0.15);\n",
              "      fill: #174EA6;\n",
              "    }\n",
              "\n",
              "    [theme=dark] .colab-df-convert {\n",
              "      background-color: #3B4455;\n",
              "      fill: #D2E3FC;\n",
              "    }\n",
              "\n",
              "    [theme=dark] .colab-df-convert:hover {\n",
              "      background-color: #434B5C;\n",
              "      box-shadow: 0px 1px 3px 1px rgba(0, 0, 0, 0.15);\n",
              "      filter: drop-shadow(0px 1px 2px rgba(0, 0, 0, 0.3));\n",
              "      fill: #FFFFFF;\n",
              "    }\n",
              "  </style>\n",
              "\n",
              "      <script>\n",
              "        const buttonEl =\n",
              "          document.querySelector('#df-68e7d265-b24f-46b5-ba12-b3f2d880427d button.colab-df-convert');\n",
              "        buttonEl.style.display =\n",
              "          google.colab.kernel.accessAllowed ? 'block' : 'none';\n",
              "\n",
              "        async function convertToInteractive(key) {\n",
              "          const element = document.querySelector('#df-68e7d265-b24f-46b5-ba12-b3f2d880427d');\n",
              "          const dataTable =\n",
              "            await google.colab.kernel.invokeFunction('convertToInteractive',\n",
              "                                                     [key], {});\n",
              "          if (!dataTable) return;\n",
              "\n",
              "          const docLinkHtml = 'Like what you see? Visit the ' +\n",
              "            '<a target=\"_blank\" href=https://colab.research.google.com/notebooks/data_table.ipynb>data table notebook</a>'\n",
              "            + ' to learn more about interactive tables.';\n",
              "          element.innerHTML = '';\n",
              "          dataTable['output_type'] = 'display_data';\n",
              "          await google.colab.output.renderOutput(dataTable, element);\n",
              "          const docLink = document.createElement('div');\n",
              "          docLink.innerHTML = docLinkHtml;\n",
              "          element.appendChild(docLink);\n",
              "        }\n",
              "      </script>\n",
              "    </div>\n",
              "  </div>\n",
              "  "
            ]
          },
          "metadata": {},
          "execution_count": 276
        }
      ]
    },
    {
      "cell_type": "code",
      "source": [
        "from scipy.stats import chi2_contingency\n",
        "from scipy.stats import chi2\n",
        "\n",
        "stat, p, dof, expected = chi2_contingency(edu_level.to_numpy())\n",
        " \n",
        "#calculating the critical value and setting the significance level =0.05\n",
        "\n",
        "critical_value = chi2.ppf(prob, dof)\n",
        "prob = 0.95\n",
        " \n",
        "print(f'Probability: {prob}, Critical value: {critical_value}, Test statistic: {stat}')\n",
        "print(f'Alpha: {1-prob}, p-value: {p}')"
      ],
      "metadata": {
        "colab": {
          "base_uri": "https://localhost:8080/"
        },
        "id": "KF_0GxDfmKQb",
        "outputId": "b0fed4dc-a3e3-4333-b28f-2782717f0e8e"
      },
      "execution_count": 277,
      "outputs": [
        {
          "output_type": "stream",
          "name": "stdout",
          "text": [
            "Probability: 0.95, Critical value: 9.487729036781154, Test statistic: 3511.46942026072\n",
            "Alpha: 0.050000000000000044, p-value: 0.0\n"
          ]
        }
      ]
    },
    {
      "cell_type": "markdown",
      "source": [
        "We reject the null hypothesis as alpha is less than the P-value"
      ],
      "metadata": {
        "id": "DfGNpQMpnd_V"
      }
    },
    {
      "cell_type": "markdown",
      "source": [
        "## 3) **Mulitivariate** **Analysis**"
      ],
      "metadata": {
        "id": "7sRNb8YXn3-s"
      }
    },
    {
      "cell_type": "code",
      "source": [
        "#under multivariate analysis we analyse more than two variables. \n",
        "#as such, we investigate the relationship between level of education, country and bank account status\n",
        "\n",
        "edu_per_country = pd.crosstab(index=[df['has_a_bank_account'],df['country']], columns=df['level_of_educuation'])\n",
        "\n",
        "#plot showing those with bank accounts\n",
        "edu_per_country.loc[('Yes', slice(None)),:].plot(kind='bar', figsize=(12,10))\n",
        "plt.xticks([0,1,2,3], labels=['Kenya','Rwanda','Tanzania','Uganda'], rotation=0)\n",
        "plt.xlabel('Education Coverage by country')\n",
        "plt.title('Individuals with bank accounts')\n",
        "\n",
        "\n",
        "\n"
      ],
      "metadata": {
        "colab": {
          "base_uri": "https://localhost:8080/",
          "height": 638
        },
        "id": "PRNQOv7fnB_2",
        "outputId": "48fce849-dcbf-4d97-a19c-f47ee0c51458"
      },
      "execution_count": 278,
      "outputs": [
        {
          "output_type": "execute_result",
          "data": {
            "text/plain": [
              "Text(0.5, 1.0, 'Individuals with bank accounts')"
            ]
          },
          "metadata": {},
          "execution_count": 278
        },
        {
          "output_type": "display_data",
          "data": {
            "text/plain": [
              "<Figure size 864x720 with 1 Axes>"
            ],
            "image/png": "[encoded data removed]"
          },
          "metadata": {}
        }
      ]
    },
    {
      "cell_type": "markdown",
      "source": [
        "From the bar graph you can tell that:\n",
        "1. In Kenya majority with bank accounts attained secodnary education\n",
        "2. In Rwanda, those who attained primary education were the majority with bank accounts\n",
        "3. Tanzania, Majority who attained primary education had accounts followed closely with those with tertiar education.\n",
        "4. In Uganda, those with ban accounts attained secondary eduaction."
      ],
      "metadata": {
        "id": "f7s_ptJZqY9-"
      }
    },
    {
      "cell_type": "code",
      "source": [
        "#plot showing those with no bank accounts\n",
        "edu_per_country.loc[('No', slice(None)),:].plot(kind='bar', figsize=(12,10))\n",
        "plt.xticks([0,1,2,3], labels=['Kenya','Rwanda','Tanzania','Uganda'], rotation=0)\n",
        "plt.xlabel('Education distribution by country')\n",
        "plt.title('individuals without a bank account')"
      ],
      "metadata": {
        "colab": {
          "base_uri": "https://localhost:8080/",
          "height": 638
        },
        "id": "IHDF0tFYpiLT",
        "outputId": "90514315-8ff5-4844-f8de-3f8c9f3bf2cb"
      },
      "execution_count": 279,
      "outputs": [
        {
          "output_type": "execute_result",
          "data": {
            "text/plain": [
              "Text(0.5, 1.0, 'individuals without a bank account')"
            ]
          },
          "metadata": {},
          "execution_count": 279
        },
        {
          "output_type": "display_data",
          "data": {
            "text/plain": [
              "<Figure size 864x720 with 1 Axes>"
            ],
            "image/png": "[encoded data removed]"
          },
          "metadata": {}
        }
      ]
    },
    {
      "cell_type": "markdown",
      "source": [
        "For those with no bank accounts, we can tell that majority with primary level of eduaction in all the countries had no bank accounts."
      ],
      "metadata": {
        "id": "R80N0lIVrN9C"
      }
    },
    {
      "cell_type": "markdown",
      "source": [
        "###Reduction Techniques"
      ],
      "metadata": {
        "id": "gIfpGOV5tIUl"
      }
    },
    {
      "cell_type": "markdown",
      "source": [
        "### 1.1 Linear Discriminant Analysis"
      ],
      "metadata": {
        "id": "qz9QsjeGuJNi"
      }
    },
    {
      "cell_type": "code",
      "source": [
        "#we need to encode the data into dummies for easier analysis on categorical data\n",
        "#dummies makes the data easy to compare and quantify\n",
        "\n",
        "\n",
        "dummy_df = pd.get_dummies(df[['country', 'type_of_location', 'cell_phone_access', 'gender_of_respondent','the_relathip_with_head', 'marital_status', 'level_of_educuation', 'type_of_job']])\n",
        "dummy_df.head()\n",
        "\n",
        "\n"
      ],
      "metadata": {
        "colab": {
          "base_uri": "https://localhost:8080/",
          "height": 317
        },
        "id": "pa7JoDztp-7G",
        "outputId": "d46dbaa7-9f02-468e-8200-2f54878fd4f0"
      },
      "execution_count": 280,
      "outputs": [
        {
          "output_type": "execute_result",
          "data": {
            "text/plain": [
              "   country_Kenya  country_Rwanda  country_Tanzania  country_Uganda  \\\n",
              "0              1               0                 0               0   \n",
              "1              1               0                 0               0   \n",
              "2              1               0                 0               0   \n",
              "3              1               0                 0               0   \n",
              "4              1               0                 0               0   \n",
              "\n",
              "   type_of_location_Rural  type_of_location_Urban  cell_phone_access_No  \\\n",
              "0                       1                       0                     0   \n",
              "1                       1                       0                     1   \n",
              "2                       0                       1                     0   \n",
              "3                       1                       0                     0   \n",
              "4                       0                       1                     1   \n",
              "\n",
              "   cell_phone_access_Yes  gender_of_respondent_Female  \\\n",
              "0                      1                            1   \n",
              "1                      0                            1   \n",
              "2                      1                            0   \n",
              "3                      1                            1   \n",
              "4                      0                            0   \n",
              "\n",
              "   gender_of_respondent_Male  ...  \\\n",
              "0                          0  ...   \n",
              "1                          0  ...   \n",
              "2                          1  ...   \n",
              "3                          0  ...   \n",
              "4                          1  ...   \n",
              "\n",
              "   level_of_educuation_Vocational/Specialised training  \\\n",
              "0                                                  0     \n",
              "1                                                  0     \n",
              "2                                                  1     \n",
              "3                                                  0     \n",
              "4                                                  0     \n",
              "\n",
              "   type_of_job_Farming and Fishing  type_of_job_Formally employed Government  \\\n",
              "0                                0                                         0   \n",
              "1                                0                                         0   \n",
              "2                                0                                         0   \n",
              "3                                0                                         0   \n",
              "4                                0                                         0   \n",
              "\n",
              "   type_of_job_Formally employed Private  type_of_job_Government Dependent  \\\n",
              "0                                      0                                 0   \n",
              "1                                      0                                 1   \n",
              "2                                      0                                 0   \n",
              "3                                      1                                 0   \n",
              "4                                      0                                 0   \n",
              "\n",
              "   type_of_job_Informally employed  type_of_job_No Income  \\\n",
              "0                                0                      0   \n",
              "1                                0                      0   \n",
              "2                                0                      0   \n",
              "3                                0                      0   \n",
              "4                                1                      0   \n",
              "\n",
              "   type_of_job_Other Income  type_of_job_Remittance Dependent  \\\n",
              "0                         0                                 0   \n",
              "1                         0                                 0   \n",
              "2                         0                                 0   \n",
              "3                         0                                 0   \n",
              "4                         0                                 0   \n",
              "\n",
              "   type_of_job_Self employed  \n",
              "0                          1  \n",
              "1                          0  \n",
              "2                          1  \n",
              "3                          0  \n",
              "4                          0  \n",
              "\n",
              "[5 rows x 34 columns]"
            ],
            "text/html": [
              "\n",
              "  <div id=\"df-2254cf9d-e24f-4993-905f-d3e81144b0d2\">\n",
              "    <div class=\"colab-df-container\">\n",
              "      <div>\n",
              "<style scoped>\n",
              "    .dataframe tbody tr th:only-of-type {\n",
              "        vertical-align: middle;\n",
              "    }\n",
              "\n",
              "    .dataframe tbody tr th {\n",
              "        vertical-align: top;\n",
              "    }\n",
              "\n",
              "    .dataframe thead th {\n",
              "        text-align: right;\n",
              "    }\n",
              "</style>\n",
              "<table border=\"1\" class=\"dataframe\">\n",
              "  <thead>\n",
              "    <tr style=\"text-align: right;\">\n",
              "      <th></th>\n",
              "      <th>country_Kenya</th>\n",
              "      <th>country_Rwanda</th>\n",
              "      <th>country_Tanzania</th>\n",
              "      <th>country_Uganda</th>\n",
              "      <th>type_of_location_Rural</th>\n",
              "      <th>type_of_location_Urban</th>\n",
              "      <th>cell_phone_access_No</th>\n",
              "      <th>cell_phone_access_Yes</th>\n",
              "      <th>gender_of_respondent_Female</th>\n",
              "      <th>gender_of_respondent_Male</th>\n",
              "      <th>...</th>\n",
              "      <th>level_of_educuation_Vocational/Specialised training</th>\n",
              "      <th>type_of_job_Farming and Fishing</th>\n",
              "      <th>type_of_job_Formally employed Government</th>\n",
              "      <th>type_of_job_Formally employed Private</th>\n",
              "      <th>type_of_job_Government Dependent</th>\n",
              "      <th>type_of_job_Informally employed</th>\n",
              "      <th>type_of_job_No Income</th>\n",
              "      <th>type_of_job_Other Income</th>\n",
              "      <th>type_of_job_Remittance Dependent</th>\n",
              "      <th>type_of_job_Self employed</th>\n",
              "    </tr>\n",
              "  </thead>\n",
              "  <tbody>\n",
              "    <tr>\n",
              "      <th>0</th>\n",
              "      <td>1</td>\n",
              "      <td>0</td>\n",
              "      <td>0</td>\n",
              "      <td>0</td>\n",
              "      <td>1</td>\n",
              "      <td>0</td>\n",
              "      <td>0</td>\n",
              "      <td>1</td>\n",
              "      <td>1</td>\n",
              "      <td>0</td>\n",
              "      <td>...</td>\n",
              "      <td>0</td>\n",
              "      <td>0</td>\n",
              "      <td>0</td>\n",
              "      <td>0</td>\n",
              "      <td>0</td>\n",
              "      <td>0</td>\n",
              "      <td>0</td>\n",
              "      <td>0</td>\n",
              "      <td>0</td>\n",
              "      <td>1</td>\n",
              "    </tr>\n",
              "    <tr>\n",
              "      <th>1</th>\n",
              "      <td>1</td>\n",
              "      <td>0</td>\n",
              "      <td>0</td>\n",
              "      <td>0</td>\n",
              "      <td>1</td>\n",
              "      <td>0</td>\n",
              "      <td>1</td>\n",
              "      <td>0</td>\n",
              "      <td>1</td>\n",
              "      <td>0</td>\n",
              "      <td>...</td>\n",
              "      <td>0</td>\n",
              "      <td>0</td>\n",
              "      <td>0</td>\n",
              "      <td>0</td>\n",
              "      <td>1</td>\n",
              "      <td>0</td>\n",
              "      <td>0</td>\n",
              "      <td>0</td>\n",
              "      <td>0</td>\n",
              "      <td>0</td>\n",
              "    </tr>\n",
              "    <tr>\n",
              "      <th>2</th>\n",
              "      <td>1</td>\n",
              "      <td>0</td>\n",
              "      <td>0</td>\n",
              "      <td>0</td>\n",
              "      <td>0</td>\n",
              "      <td>1</td>\n",
              "      <td>0</td>\n",
              "      <td>1</td>\n",
              "      <td>0</td>\n",
              "      <td>1</td>\n",
              "      <td>...</td>\n",
              "      <td>1</td>\n",
              "      <td>0</td>\n",
              "      <td>0</td>\n",
              "      <td>0</td>\n",
              "      <td>0</td>\n",
              "      <td>0</td>\n",
              "      <td>0</td>\n",
              "      <td>0</td>\n",
              "      <td>0</td>\n",
              "      <td>1</td>\n",
              "    </tr>\n",
              "    <tr>\n",
              "      <th>3</th>\n",
              "      <td>1</td>\n",
              "      <td>0</td>\n",
              "      <td>0</td>\n",
              "      <td>0</td>\n",
              "      <td>1</td>\n",
              "      <td>0</td>\n",
              "      <td>0</td>\n",
              "      <td>1</td>\n",
              "      <td>1</td>\n",
              "      <td>0</td>\n",
              "      <td>...</td>\n",
              "      <td>0</td>\n",
              "      <td>0</td>\n",
              "      <td>0</td>\n",
              "      <td>1</td>\n",
              "      <td>0</td>\n",
              "      <td>0</td>\n",
              "      <td>0</td>\n",
              "      <td>0</td>\n",
              "      <td>0</td>\n",
              "      <td>0</td>\n",
              "    </tr>\n",
              "    <tr>\n",
              "      <th>4</th>\n",
              "      <td>1</td>\n",
              "      <td>0</td>\n",
              "      <td>0</td>\n",
              "      <td>0</td>\n",
              "      <td>0</td>\n",
              "      <td>1</td>\n",
              "      <td>1</td>\n",
              "      <td>0</td>\n",
              "      <td>0</td>\n",
              "      <td>1</td>\n",
              "      <td>...</td>\n",
              "      <td>0</td>\n",
              "      <td>0</td>\n",
              "      <td>0</td>\n",
              "      <td>0</td>\n",
              "      <td>0</td>\n",
              "      <td>1</td>\n",
              "      <td>0</td>\n",
              "      <td>0</td>\n",
              "      <td>0</td>\n",
              "      <td>0</td>\n",
              "    </tr>\n",
              "  </tbody>\n",
              "</table>\n",
              "<p>5 rows × 34 columns</p>\n",
              "</div>\n",
              "      <button class=\"colab-df-convert\" onclick=\"convertToInteractive('df-2254cf9d-e24f-4993-905f-d3e81144b0d2')\"\n",
              "              title=\"Convert this dataframe to an interactive table.\"\n",
              "              style=\"display:none;\">\n",
              "        \n",
              "  <svg xmlns=\"http://www.w3.org/2000/svg\" height=\"24px\"viewBox=\"0 0 24 24\"\n",
              "       width=\"24px\">\n",
              "    <path d=\"M0 0h24v24H0V0z\" fill=\"none\"/>\n",
              "    <path d=\"M18.56 5.44l.94 2.06.94-2.06 2.06-.94-2.06-.94-.94-2.06-.94 2.06-2.06.94zm-11 1L8.5 8.5l.94-2.06 2.06-.94-2.06-.94L8.5 2.5l-.94 2.06-2.06.94zm10 10l.94 2.06.94-2.06 2.06-.94-2.06-.94-.94-2.06-.94 2.06-2.06.94z\"/><path d=\"M17.41 7.96l-1.37-1.37c-.4-.4-.92-.59-1.43-.59-.52 0-1.04.2-1.43.59L10.3 9.45l-7.72 7.72c-.78.78-.78 2.05 0 2.83L4 21.41c.39.39.9.59 1.41.59.51 0 1.02-.2 1.41-.59l7.78-7.78 2.81-2.81c.8-.78.8-2.07 0-2.86zM5.41 20L4 18.59l7.72-7.72 1.47 1.35L5.41 20z\"/>\n",
              "  </svg>\n",
              "      </button>\n",
              "      \n",
              "  <style>\n",
              "    .colab-df-container {\n",
              "      display:flex;\n",
              "      flex-wrap:wrap;\n",
              "      gap: 12px;\n",
              "    }\n",
              "\n",
              "    .colab-df-convert {\n",
              "      background-color: #E8F0FE;\n",
              "      border: none;\n",
              "      border-radius: 50%;\n",
              "      cursor: pointer;\n",
              "      display: none;\n",
              "      fill: #1967D2;\n",
              "      height: 32px;\n",
              "      padding: 0 0 0 0;\n",
              "      width: 32px;\n",
              "    }\n",
              "\n",
              "    .colab-df-convert:hover {\n",
              "      background-color: #E2EBFA;\n",
              "      box-shadow: 0px 1px 2px rgba(60, 64, 67, 0.3), 0px 1px 3px 1px rgba(60, 64, 67, 0.15);\n",
              "      fill: #174EA6;\n",
              "    }\n",
              "\n",
              "    [theme=dark] .colab-df-convert {\n",
              "      background-color: #3B4455;\n",
              "      fill: #D2E3FC;\n",
              "    }\n",
              "\n",
              "    [theme=dark] .colab-df-convert:hover {\n",
              "      background-color: #434B5C;\n",
              "      box-shadow: 0px 1px 3px 1px rgba(0, 0, 0, 0.15);\n",
              "      filter: drop-shadow(0px 1px 2px rgba(0, 0, 0, 0.3));\n",
              "      fill: #FFFFFF;\n",
              "    }\n",
              "  </style>\n",
              "\n",
              "      <script>\n",
              "        const buttonEl =\n",
              "          document.querySelector('#df-2254cf9d-e24f-4993-905f-d3e81144b0d2 button.colab-df-convert');\n",
              "        buttonEl.style.display =\n",
              "          google.colab.kernel.accessAllowed ? 'block' : 'none';\n",
              "\n",
              "        async function convertToInteractive(key) {\n",
              "          const element = document.querySelector('#df-2254cf9d-e24f-4993-905f-d3e81144b0d2');\n",
              "          const dataTable =\n",
              "            await google.colab.kernel.invokeFunction('convertToInteractive',\n",
              "                                                     [key], {});\n",
              "          if (!dataTable) return;\n",
              "\n",
              "          const docLinkHtml = 'Like what you see? Visit the ' +\n",
              "            '<a target=\"_blank\" href=https://colab.research.google.com/notebooks/data_table.ipynb>data table notebook</a>'\n",
              "            + ' to learn more about interactive tables.';\n",
              "          element.innerHTML = '';\n",
              "          dataTable['output_type'] = 'display_data';\n",
              "          await google.colab.output.renderOutput(dataTable, element);\n",
              "          const docLink = document.createElement('div');\n",
              "          docLink.innerHTML = docLinkHtml;\n",
              "          element.appendChild(docLink);\n",
              "        }\n",
              "      </script>\n",
              "    </div>\n",
              "  </div>\n",
              "  "
            ]
          },
          "metadata": {},
          "execution_count": 280
        }
      ]
    },
    {
      "cell_type": "code",
      "source": [
        "#for comparison purposes wth the initial dataset, we will concatnate the two datarames\n",
        "new_df = pd.concat([df, dummy_df], axis = 1)\n",
        "new_df.head()"
      ],
      "metadata": {
        "colab": {
          "base_uri": "https://localhost:8080/",
          "height": 386
        },
        "id": "mYdY_S1ezRzW",
        "outputId": "e3168034-928b-4226-d219-dbb2eec75369"
      },
      "execution_count": 281,
      "outputs": [
        {
          "output_type": "execute_result",
          "data": {
            "text/plain": [
              "  country  year has_a_bank_account type_of_location cell_phone_access  \\\n",
              "0   Kenya  2018                Yes            Rural               Yes   \n",
              "1   Kenya  2018                 No            Rural                No   \n",
              "2   Kenya  2018                Yes            Urban               Yes   \n",
              "3   Kenya  2018                 No            Rural               Yes   \n",
              "4   Kenya  2018                 No            Urban                No   \n",
              "\n",
              "   household_size  respondent_age gender_of_respondent the_relathip_with_head  \\\n",
              "0             3.0            24.0               Female                 Spouse   \n",
              "1             5.0            70.0               Female      Head of Household   \n",
              "2             5.0            26.0                 Male         Other relative   \n",
              "3             5.0            34.0               Female      Head of Household   \n",
              "4             8.0            26.0                 Male                  Child   \n",
              "\n",
              "            marital_status  ...  \\\n",
              "0  Married/Living together  ...   \n",
              "1                  Widowed  ...   \n",
              "2     Single/Never Married  ...   \n",
              "3  Married/Living together  ...   \n",
              "4     Single/Never Married  ...   \n",
              "\n",
              "  level_of_educuation_Vocational/Specialised training  \\\n",
              "0                                                  0    \n",
              "1                                                  0    \n",
              "2                                                  1    \n",
              "3                                                  0    \n",
              "4                                                  0    \n",
              "\n",
              "  type_of_job_Farming and Fishing  type_of_job_Formally employed Government  \\\n",
              "0                               0                                         0   \n",
              "1                               0                                         0   \n",
              "2                               0                                         0   \n",
              "3                               0                                         0   \n",
              "4                               0                                         0   \n",
              "\n",
              "   type_of_job_Formally employed Private  type_of_job_Government Dependent  \\\n",
              "0                                      0                                 0   \n",
              "1                                      0                                 1   \n",
              "2                                      0                                 0   \n",
              "3                                      1                                 0   \n",
              "4                                      0                                 0   \n",
              "\n",
              "   type_of_job_Informally employed  type_of_job_No Income  \\\n",
              "0                                0                      0   \n",
              "1                                0                      0   \n",
              "2                                0                      0   \n",
              "3                                0                      0   \n",
              "4                                1                      0   \n",
              "\n",
              "   type_of_job_Other Income  type_of_job_Remittance Dependent  \\\n",
              "0                         0                                 0   \n",
              "1                         0                                 0   \n",
              "2                         0                                 0   \n",
              "3                         0                                 0   \n",
              "4                         0                                 0   \n",
              "\n",
              "   type_of_job_Self employed  \n",
              "0                          1  \n",
              "1                          0  \n",
              "2                          1  \n",
              "3                          0  \n",
              "4                          0  \n",
              "\n",
              "[5 rows x 46 columns]"
            ],
            "text/html": [
              "\n",
              "  <div id=\"df-7e440da2-deb7-47f4-9a20-65a1970574e6\">\n",
              "    <div class=\"colab-df-container\">\n",
              "      <div>\n",
              "<style scoped>\n",
              "    .dataframe tbody tr th:only-of-type {\n",
              "        vertical-align: middle;\n",
              "    }\n",
              "\n",
              "    .dataframe tbody tr th {\n",
              "        vertical-align: top;\n",
              "    }\n",
              "\n",
              "    .dataframe thead th {\n",
              "        text-align: right;\n",
              "    }\n",
              "</style>\n",
              "<table border=\"1\" class=\"dataframe\">\n",
              "  <thead>\n",
              "    <tr style=\"text-align: right;\">\n",
              "      <th></th>\n",
              "      <th>country</th>\n",
              "      <th>year</th>\n",
              "      <th>has_a_bank_account</th>\n",
              "      <th>type_of_location</th>\n",
              "      <th>cell_phone_access</th>\n",
              "      <th>household_size</th>\n",
              "      <th>respondent_age</th>\n",
              "      <th>gender_of_respondent</th>\n",
              "      <th>the_relathip_with_head</th>\n",
              "      <th>marital_status</th>\n",
              "      <th>...</th>\n",
              "      <th>level_of_educuation_Vocational/Specialised training</th>\n",
              "      <th>type_of_job_Farming and Fishing</th>\n",
              "      <th>type_of_job_Formally employed Government</th>\n",
              "      <th>type_of_job_Formally employed Private</th>\n",
              "      <th>type_of_job_Government Dependent</th>\n",
              "      <th>type_of_job_Informally employed</th>\n",
              "      <th>type_of_job_No Income</th>\n",
              "      <th>type_of_job_Other Income</th>\n",
              "      <th>type_of_job_Remittance Dependent</th>\n",
              "      <th>type_of_job_Self employed</th>\n",
              "    </tr>\n",
              "  </thead>\n",
              "  <tbody>\n",
              "    <tr>\n",
              "      <th>0</th>\n",
              "      <td>Kenya</td>\n",
              "      <td>2018</td>\n",
              "      <td>Yes</td>\n",
              "      <td>Rural</td>\n",
              "      <td>Yes</td>\n",
              "      <td>3.0</td>\n",
              "      <td>24.0</td>\n",
              "      <td>Female</td>\n",
              "      <td>Spouse</td>\n",
              "      <td>Married/Living together</td>\n",
              "      <td>...</td>\n",
              "      <td>0</td>\n",
              "      <td>0</td>\n",
              "      <td>0</td>\n",
              "      <td>0</td>\n",
              "      <td>0</td>\n",
              "      <td>0</td>\n",
              "      <td>0</td>\n",
              "      <td>0</td>\n",
              "      <td>0</td>\n",
              "      <td>1</td>\n",
              "    </tr>\n",
              "    <tr>\n",
              "      <th>1</th>\n",
              "      <td>Kenya</td>\n",
              "      <td>2018</td>\n",
              "      <td>No</td>\n",
              "      <td>Rural</td>\n",
              "      <td>No</td>\n",
              "      <td>5.0</td>\n",
              "      <td>70.0</td>\n",
              "      <td>Female</td>\n",
              "      <td>Head of Household</td>\n",
              "      <td>Widowed</td>\n",
              "      <td>...</td>\n",
              "      <td>0</td>\n",
              "      <td>0</td>\n",
              "      <td>0</td>\n",
              "      <td>0</td>\n",
              "      <td>1</td>\n",
              "      <td>0</td>\n",
              "      <td>0</td>\n",
              "      <td>0</td>\n",
              "      <td>0</td>\n",
              "      <td>0</td>\n",
              "    </tr>\n",
              "    <tr>\n",
              "      <th>2</th>\n",
              "      <td>Kenya</td>\n",
              "      <td>2018</td>\n",
              "      <td>Yes</td>\n",
              "      <td>Urban</td>\n",
              "      <td>Yes</td>\n",
              "      <td>5.0</td>\n",
              "      <td>26.0</td>\n",
              "      <td>Male</td>\n",
              "      <td>Other relative</td>\n",
              "      <td>Single/Never Married</td>\n",
              "      <td>...</td>\n",
              "      <td>1</td>\n",
              "      <td>0</td>\n",
              "      <td>0</td>\n",
              "      <td>0</td>\n",
              "      <td>0</td>\n",
              "      <td>0</td>\n",
              "      <td>0</td>\n",
              "      <td>0</td>\n",
              "      <td>0</td>\n",
              "      <td>1</td>\n",
              "    </tr>\n",
              "    <tr>\n",
              "      <th>3</th>\n",
              "      <td>Kenya</td>\n",
              "      <td>2018</td>\n",
              "      <td>No</td>\n",
              "      <td>Rural</td>\n",
              "      <td>Yes</td>\n",
              "      <td>5.0</td>\n",
              "      <td>34.0</td>\n",
              "      <td>Female</td>\n",
              "      <td>Head of Household</td>\n",
              "      <td>Married/Living together</td>\n",
              "      <td>...</td>\n",
              "      <td>0</td>\n",
              "      <td>0</td>\n",
              "      <td>0</td>\n",
              "      <td>1</td>\n",
              "      <td>0</td>\n",
              "      <td>0</td>\n",
              "      <td>0</td>\n",
              "      <td>0</td>\n",
              "      <td>0</td>\n",
              "      <td>0</td>\n",
              "    </tr>\n",
              "    <tr>\n",
              "      <th>4</th>\n",
              "      <td>Kenya</td>\n",
              "      <td>2018</td>\n",
              "      <td>No</td>\n",
              "      <td>Urban</td>\n",
              "      <td>No</td>\n",
              "      <td>8.0</td>\n",
              "      <td>26.0</td>\n",
              "      <td>Male</td>\n",
              "      <td>Child</td>\n",
              "      <td>Single/Never Married</td>\n",
              "      <td>...</td>\n",
              "      <td>0</td>\n",
              "      <td>0</td>\n",
              "      <td>0</td>\n",
              "      <td>0</td>\n",
              "      <td>0</td>\n",
              "      <td>1</td>\n",
              "      <td>0</td>\n",
              "      <td>0</td>\n",
              "      <td>0</td>\n",
              "      <td>0</td>\n",
              "    </tr>\n",
              "  </tbody>\n",
              "</table>\n",
              "<p>5 rows × 46 columns</p>\n",
              "</div>\n",
              "      <button class=\"colab-df-convert\" onclick=\"convertToInteractive('df-7e440da2-deb7-47f4-9a20-65a1970574e6')\"\n",
              "              title=\"Convert this dataframe to an interactive table.\"\n",
              "              style=\"display:none;\">\n",
              "        \n",
              "  <svg xmlns=\"http://www.w3.org/2000/svg\" height=\"24px\"viewBox=\"0 0 24 24\"\n",
              "       width=\"24px\">\n",
              "    <path d=\"M0 0h24v24H0V0z\" fill=\"none\"/>\n",
              "    <path d=\"M18.56 5.44l.94 2.06.94-2.06 2.06-.94-2.06-.94-.94-2.06-.94 2.06-2.06.94zm-11 1L8.5 8.5l.94-2.06 2.06-.94-2.06-.94L8.5 2.5l-.94 2.06-2.06.94zm10 10l.94 2.06.94-2.06 2.06-.94-2.06-.94-.94-2.06-.94 2.06-2.06.94z\"/><path d=\"M17.41 7.96l-1.37-1.37c-.4-.4-.92-.59-1.43-.59-.52 0-1.04.2-1.43.59L10.3 9.45l-7.72 7.72c-.78.78-.78 2.05 0 2.83L4 21.41c.39.39.9.59 1.41.59.51 0 1.02-.2 1.41-.59l7.78-7.78 2.81-2.81c.8-.78.8-2.07 0-2.86zM5.41 20L4 18.59l7.72-7.72 1.47 1.35L5.41 20z\"/>\n",
              "  </svg>\n",
              "      </button>\n",
              "      \n",
              "  <style>\n",
              "    .colab-df-container {\n",
              "      display:flex;\n",
              "      flex-wrap:wrap;\n",
              "      gap: 12px;\n",
              "    }\n",
              "\n",
              "    .colab-df-convert {\n",
              "      background-color: #E8F0FE;\n",
              "      border: none;\n",
              "      border-radius: 50%;\n",
              "      cursor: pointer;\n",
              "      display: none;\n",
              "      fill: #1967D2;\n",
              "      height: 32px;\n",
              "      padding: 0 0 0 0;\n",
              "      width: 32px;\n",
              "    }\n",
              "\n",
              "    .colab-df-convert:hover {\n",
              "      background-color: #E2EBFA;\n",
              "      box-shadow: 0px 1px 2px rgba(60, 64, 67, 0.3), 0px 1px 3px 1px rgba(60, 64, 67, 0.15);\n",
              "      fill: #174EA6;\n",
              "    }\n",
              "\n",
              "    [theme=dark] .colab-df-convert {\n",
              "      background-color: #3B4455;\n",
              "      fill: #D2E3FC;\n",
              "    }\n",
              "\n",
              "    [theme=dark] .colab-df-convert:hover {\n",
              "      background-color: #434B5C;\n",
              "      box-shadow: 0px 1px 3px 1px rgba(0, 0, 0, 0.15);\n",
              "      filter: drop-shadow(0px 1px 2px rgba(0, 0, 0, 0.3));\n",
              "      fill: #FFFFFF;\n",
              "    }\n",
              "  </style>\n",
              "\n",
              "      <script>\n",
              "        const buttonEl =\n",
              "          document.querySelector('#df-7e440da2-deb7-47f4-9a20-65a1970574e6 button.colab-df-convert');\n",
              "        buttonEl.style.display =\n",
              "          google.colab.kernel.accessAllowed ? 'block' : 'none';\n",
              "\n",
              "        async function convertToInteractive(key) {\n",
              "          const element = document.querySelector('#df-7e440da2-deb7-47f4-9a20-65a1970574e6');\n",
              "          const dataTable =\n",
              "            await google.colab.kernel.invokeFunction('convertToInteractive',\n",
              "                                                     [key], {});\n",
              "          if (!dataTable) return;\n",
              "\n",
              "          const docLinkHtml = 'Like what you see? Visit the ' +\n",
              "            '<a target=\"_blank\" href=https://colab.research.google.com/notebooks/data_table.ipynb>data table notebook</a>'\n",
              "            + ' to learn more about interactive tables.';\n",
              "          element.innerHTML = '';\n",
              "          dataTable['output_type'] = 'display_data';\n",
              "          await google.colab.output.renderOutput(dataTable, element);\n",
              "          const docLink = document.createElement('div');\n",
              "          docLink.innerHTML = docLinkHtml;\n",
              "          element.appendChild(docLink);\n",
              "        }\n",
              "      </script>\n",
              "    </div>\n",
              "  </div>\n",
              "  "
            ]
          },
          "metadata": {},
          "execution_count": 281
        }
      ]
    },
    {
      "cell_type": "code",
      "source": [
        "#To begin the LDA, I divide the dataset into features (z) and corresponding labels (k)\n",
        "#the i proceed to divide the resultant dataset into test and training sets\n",
        "\n",
        "z = new_df.iloc[:, 12:].values\n",
        "s = new_df.iloc[:, 2].values"
      ],
      "metadata": {
        "id": "muzIDZZx5GXj"
      },
      "execution_count": 282,
      "outputs": []
    },
    {
      "cell_type": "code",
      "source": [
        "s"
      ],
      "metadata": {
        "colab": {
          "base_uri": "https://localhost:8080/"
        },
        "id": "EfTKhVjJ5-gG",
        "outputId": "8b1a3f82-9ced-4640-a765-0e5a97f07483"
      },
      "execution_count": 283,
      "outputs": [
        {
          "output_type": "execute_result",
          "data": {
            "text/plain": [
              "array(['Yes', 'No', 'Yes', ..., 'No', 'No', 'No'], dtype=object)"
            ]
          },
          "metadata": {},
          "execution_count": 283
        }
      ]
    },
    {
      "cell_type": "code",
      "source": [
        "z"
      ],
      "metadata": {
        "colab": {
          "base_uri": "https://localhost:8080/"
        },
        "id": "7_0WTmUk6B-g",
        "outputId": "d940fcd2-8155-4d15-8786-0e49888fcb7f"
      },
      "execution_count": 284,
      "outputs": [
        {
          "output_type": "execute_result",
          "data": {
            "text/plain": [
              "array([[1, 0, 0, ..., 0, 0, 1],\n",
              "       [1, 0, 0, ..., 0, 0, 0],\n",
              "       [1, 0, 0, ..., 0, 0, 1],\n",
              "       ...,\n",
              "       [0, 0, 0, ..., 1, 0, 0],\n",
              "       [0, 0, 0, ..., 0, 0, 1],\n",
              "       [0, 0, 0, ..., 0, 0, 0]], dtype=uint8)"
            ]
          },
          "metadata": {},
          "execution_count": 284
        }
      ]
    },
    {
      "cell_type": "code",
      "source": [
        "#Next i divide the data into training and test sets\n",
        "#\n",
        "from sklearn.model_selection import train_test_split\n",
        "\n",
        "z_train, z_test, s_train, s_test = train_test_split(z, s, test_size=0.2, random_state=0)"
      ],
      "metadata": {
        "id": "I3En5UNc6DiV"
      },
      "execution_count": 285,
      "outputs": []
    },
    {
      "cell_type": "code",
      "source": [
        "#doing the feature scaling. \n",
        "\n",
        "from sklearn.preprocessing import StandardScaler\n",
        "\n",
        "sc = StandardScaler()\n",
        "z_train = sc.fit_transform(z_train)\n",
        "z_test = sc.transform(z_test)"
      ],
      "metadata": {
        "id": "-OAs9MfQ6jsK"
      },
      "execution_count": 286,
      "outputs": []
    },
    {
      "cell_type": "code",
      "source": [
        "#carry out LDA using Scikit-Learn library\n",
        "\n",
        "from sklearn.discriminant_analysis import LinearDiscriminantAnalysis as LDA\n",
        "\n",
        "lda = LDA(n_components=24)\n",
        "z_train = lda.fit_transform(z_train, s_train)\n",
        "z_test = lda.transform(z_test)"
      ],
      "metadata": {
        "colab": {
          "base_uri": "https://localhost:8080/",
          "height": 363
        },
        "id": "vFzNFDbt6r__",
        "outputId": "5b09c87e-ddd4-48ee-a7c2-7c3587f4f76c"
      },
      "execution_count": 287,
      "outputs": [
        {
          "output_type": "error",
          "ename": "ValueError",
          "evalue": "ignored",
          "traceback": [
            "\u001b[0;31m---------------------------------------------------------------------------\u001b[0m",
            "\u001b[0;31mValueError\u001b[0m                                Traceback (most recent call last)",
            "\u001b[0;32m<ipython-input-287-948cbfdf427b>\u001b[0m in \u001b[0;36m<module>\u001b[0;34m()\u001b[0m\n\u001b[1;32m      4\u001b[0m \u001b[0;34m\u001b[0m\u001b[0m\n\u001b[1;32m      5\u001b[0m \u001b[0mlda\u001b[0m \u001b[0;34m=\u001b[0m \u001b[0mLDA\u001b[0m\u001b[0;34m(\u001b[0m\u001b[0mn_components\u001b[0m\u001b[0;34m=\u001b[0m\u001b[0;36m24\u001b[0m\u001b[0;34m)\u001b[0m\u001b[0;34m\u001b[0m\u001b[0;34m\u001b[0m\u001b[0m\n\u001b[0;32m----> 6\u001b[0;31m \u001b[0mz_train\u001b[0m \u001b[0;34m=\u001b[0m \u001b[0mlda\u001b[0m\u001b[0;34m.\u001b[0m\u001b[0mfit_transform\u001b[0m\u001b[0;34m(\u001b[0m\u001b[0mz_train\u001b[0m\u001b[0;34m,\u001b[0m \u001b[0ms_train\u001b[0m\u001b[0;34m)\u001b[0m\u001b[0;34m\u001b[0m\u001b[0;34m\u001b[0m\u001b[0m\n\u001b[0m\u001b[1;32m      7\u001b[0m \u001b[0mz_test\u001b[0m \u001b[0;34m=\u001b[0m \u001b[0mlda\u001b[0m\u001b[0;34m.\u001b[0m\u001b[0mtransform\u001b[0m\u001b[0;34m(\u001b[0m\u001b[0mz_test\u001b[0m\u001b[0;34m)\u001b[0m\u001b[0;34m\u001b[0m\u001b[0;34m\u001b[0m\u001b[0m\n",
            "\u001b[0;32m/usr/local/lib/python3.7/dist-packages/sklearn/base.py\u001b[0m in \u001b[0;36mfit_transform\u001b[0;34m(self, X, y, **fit_params)\u001b[0m\n\u001b[1;32m    853\u001b[0m         \u001b[0;32melse\u001b[0m\u001b[0;34m:\u001b[0m\u001b[0;34m\u001b[0m\u001b[0;34m\u001b[0m\u001b[0m\n\u001b[1;32m    854\u001b[0m             \u001b[0;31m# fit method of arity 2 (supervised transformation)\u001b[0m\u001b[0;34m\u001b[0m\u001b[0;34m\u001b[0m\u001b[0;34m\u001b[0m\u001b[0m\n\u001b[0;32m--> 855\u001b[0;31m             \u001b[0;32mreturn\u001b[0m \u001b[0mself\u001b[0m\u001b[0;34m.\u001b[0m\u001b[0mfit\u001b[0m\u001b[0;34m(\u001b[0m\u001b[0mX\u001b[0m\u001b[0;34m,\u001b[0m \u001b[0my\u001b[0m\u001b[0;34m,\u001b[0m \u001b[0;34m**\u001b[0m\u001b[0mfit_params\u001b[0m\u001b[0;34m)\u001b[0m\u001b[0;34m.\u001b[0m\u001b[0mtransform\u001b[0m\u001b[0;34m(\u001b[0m\u001b[0mX\u001b[0m\u001b[0;34m)\u001b[0m\u001b[0;34m\u001b[0m\u001b[0;34m\u001b[0m\u001b[0m\n\u001b[0m\u001b[1;32m    856\u001b[0m \u001b[0;34m\u001b[0m\u001b[0m\n\u001b[1;32m    857\u001b[0m \u001b[0;34m\u001b[0m\u001b[0m\n",
            "\u001b[0;32m/usr/local/lib/python3.7/dist-packages/sklearn/discriminant_analysis.py\u001b[0m in \u001b[0;36mfit\u001b[0;34m(self, X, y)\u001b[0m\n\u001b[1;32m    575\u001b[0m             \u001b[0;32mif\u001b[0m \u001b[0mself\u001b[0m\u001b[0;34m.\u001b[0m\u001b[0mn_components\u001b[0m \u001b[0;34m>\u001b[0m \u001b[0mmax_components\u001b[0m\u001b[0;34m:\u001b[0m\u001b[0;34m\u001b[0m\u001b[0;34m\u001b[0m\u001b[0m\n\u001b[1;32m    576\u001b[0m                 raise ValueError(\n\u001b[0;32m--> 577\u001b[0;31m                     \u001b[0;34m\"n_components cannot be larger than min(n_features, n_classes - 1).\"\u001b[0m\u001b[0;34m\u001b[0m\u001b[0;34m\u001b[0m\u001b[0m\n\u001b[0m\u001b[1;32m    578\u001b[0m                 )\n\u001b[1;32m    579\u001b[0m             \u001b[0mself\u001b[0m\u001b[0;34m.\u001b[0m\u001b[0m_max_components\u001b[0m \u001b[0;34m=\u001b[0m \u001b[0mself\u001b[0m\u001b[0;34m.\u001b[0m\u001b[0mn_components\u001b[0m\u001b[0;34m\u001b[0m\u001b[0;34m\u001b[0m\u001b[0m\n",
            "\u001b[0;31mValueError\u001b[0m: n_components cannot be larger than min(n_features, n_classes - 1)."
          ]
        }
      ]
    },
    {
      "cell_type": "code",
      "source": [
        "#Training and Making Predictions using the random forest classifier in evaluatin the performance\n",
        "from sklearn.ensemble import RandomForestClassifier\n",
        "\n",
        "first_class = RandomForestClassifier(max_depth=2, random_state=0)\n",
        "first_class.fit(z_train, s_train)\n",
        "\n",
        "# # predicting the Test set results\n",
        "\n",
        "s_pred = first_class.predict(z_test)"
      ],
      "metadata": {
        "id": "uX4XkSMh7JA1"
      },
      "execution_count": 288,
      "outputs": []
    },
    {
      "cell_type": "code",
      "source": [
        "#Evaluating the Performance of the algorithm Using a confusion matrix and the accuracy score.\n",
        "from sklearn.metrics import confusion_matrix\n",
        "from sklearn.metrics import accuracy_score\n",
        "\n",
        "matrix1 = confusion_matrix(s_test, s_pred)\n",
        "print(matrix1)\n",
        "print('Accuracy' + str(accuracy_score(s_test, s_pred)))"
      ],
      "metadata": {
        "colab": {
          "base_uri": "https://localhost:8080/"
        },
        "id": "rDRFm_qg-UHk",
        "outputId": "dfd38e64-96f0-4ee6-ee51-5cbe714a23ac"
      },
      "execution_count": 289,
      "outputs": [
        {
          "output_type": "stream",
          "name": "stdout",
          "text": [
            "[[3971    0]\n",
            " [ 664    0]]\n",
            "Accuracy0.8567421790722761\n"
          ]
        }
      ]
    },
    {
      "cell_type": "markdown",
      "source": [
        "The LDA classifier has a 85.67% accuracy."
      ],
      "metadata": {
        "id": "Mq7WRWMW_A2B"
      }
    },
    {
      "cell_type": "markdown",
      "source": [
        "# Findings Summary"
      ],
      "metadata": {
        "id": "STv4ADeo_6CG"
      }
    },
    {
      "cell_type": "markdown",
      "source": [
        "There are more individuals without a bank account(85%) in comparison to those with a bank account in the East African Countries.\n",
        "\n",
        "The Type of education one has has an impact on one having a bank account. in all countries those with primary education, had no bank accounts.\n"
      ],
      "metadata": {
        "id": "3b7ywPbO_-wD"
      }
    },
    {
      "cell_type": "markdown",
      "source": [
        "# Challenging the Solution"
      ],
      "metadata": {
        "id": "4-lIyzgDA_f6"
      }
    },
    {
      "cell_type": "markdown",
      "source": [
        "To get further relationshps between categorical data or perfom further analysis, we might need to use other ways for analysis such as ANOVA to identify the relationships. "
      ],
      "metadata": {
        "id": "9LJy4m4PBJKN"
      }
    }
  ]
}